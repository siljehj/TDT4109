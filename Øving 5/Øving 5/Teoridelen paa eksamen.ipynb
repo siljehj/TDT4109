{
 "cells": [
  {
   "cell_type": "markdown",
   "metadata": {
    "deletable": false,
    "editable": false,
    "run_control": {
     "frozen": true
    }
   },
   "source": [
    "<nav class=\"navbar navbar-default\">\n",
    "  <div class=\"container-fluid\">\n",
    "    <div class=\"navbar-header\">\n",
    "      <a class=\"navbar-brand\" href=\"_Oving5.ipynb\">Øving 5</a>\n",
    "    </div>\n",
    "    <ul class=\"nav navbar-nav\">\n",
    "      <li ><a href=\"Generelt%20om%20lister.ipynb\">Generelt om lister</a></li>\n",
    "    <li ><a href=\"Lett%20og%20blandet.ipynb\">Lett og blandet</a></li>\n",
    "    <li ><a href=\"Kodeforstaelse.ipynb\">Kodeforståelse</a></li>\n",
    "    <li ><a href=\"Vektorer.ipynb\">Vektorer</a></li>\n",
    "    <li ><a href=\"Lister%20og%20lokker.ipynb\">Lister og løkker</a></li>\n",
    "    <li class=\"active\"><a href=\"Teoridelen%20paa%20eksamen.ipynb\">Teoridelen på eksamen</a></li>\n",
    "    <li><a href=\"Gangetabell%20og%20lister.ipynb\">Gangetabell og lister</a></li>\n",
    "    <li ><a href=\"Lotto.ipynb\">Lotto</a></li>\n",
    "    <li ><a href=\"Tannfeen.ipynb\">Tannfeen</a></li>\n",
    "        <li><a href=\"Chattebot.ipynb\">Chattebot</a></li>\n",
    "    <li ><a href=\"Matriseaddisjon.ipynb\">Matriseaddisjon</a></li>\n",
    "    </ul>\n",
    "  </div>\n",
    "</nav>\n",
    "\n",
    "# Teoridelen på eksamen\n",
    "\n",
    "**Læringsmål:**\n",
    "\n",
    "* Lister\n",
    "* funksjoner\n",
    "\n",
    "**Starting Out with Python:**\n",
    "\n",
    "* Kap. 7\n",
    "\n",
    "I denne oppgaven skal du sammenligne to lister og studere hvor like de er hverandre. \n",
    "\n",
    "25% av eksamen er flervalgsoppgaver, og her skal vi anta at det alltid vil være 20 oppgaver. Riktige svar for oppgavene er som følger:"
   ]
  },
  {
   "cell_type": "markdown",
   "metadata": {
    "deletable": false,
    "editable": false,
    "run_control": {
     "frozen": true
    }
   },
   "source": [
    "Riktige svar|- |- |-\n",
    "---|---|---|---\n",
    "1.A|6.A|11.D|16.A\n",
    "2.C\t|7.B|\t12.A|\t17.B\n",
    "3.B|\t8.A\t|13.C\t|18.A\n",
    "4.D\t|9.C|\t14.C|\t19.C\n",
    "5.A\t|10.A|\t15.B|\t20.D\n"
   ]
  },
  {
   "cell_type": "markdown",
   "metadata": {
    "deletable": false,
    "editable": false,
    "run_control": {
     "frozen": true
    }
   },
   "source": [
    "**a)** \n",
    "Lag en liste *fasit* som inneholder de korrekte svarene.\n",
    "\n",
    "***Skriv svaret ditt i boksen under.***"
   ]
  },
  {
   "cell_type": "code",
   "execution_count": 3,
   "metadata": {
    "ExecuteTime": {
     "end_time": "2019-07-03T09:50:49.055719Z",
     "start_time": "2019-07-03T09:50:49.049558Z"
    }
   },
   "outputs": [],
   "source": [
    "fasit = [\"A\", \"C\", \"B\", \"D\", \"A\", \"A\", \"B\", \"A\", \"C\", \"A\", \"D\", \"A\", \"C\", \"C\", \"B\", \"A\", \"B\", \"A\", \"C\", \"D\"]"
   ]
  },
  {
   "cell_type": "markdown",
   "metadata": {
    "deletable": false,
    "editable": false,
    "run_control": {
     "frozen": true
    }
   },
   "source": [
    "**b)**\n",
    "Lag en funksjon `sjekk_svar` som tar inn studentens_svar som argument. studentens_svar er en liste som inneholder en students svar på oppgavene. Ved å sammenligne studenten sine svar med de riktige svarene, skal funksjonen returnere hvor mange prosent av oppgavene studenten klarte. \n",
    "\n",
    "Eksempel på kjøring:\n",
    "\n",
    "```python\n",
    "print(sjekk_svar(['A', 'C', 'B', 'D', 'A', 'A', 'B', 'A', 'C', 'A', 'D', 'A', 'C', 'C', 'B', 'A', 'B', 'A', 'A', 'C'])) # Gir 90% riktig\n",
    "print(sjekk_svar(fasit)) # Gir 100% riktig\n",
    "```\n",
    "\n",
    "***Skriv svaret ditt i boksen under.***"
   ]
  },
  {
   "cell_type": "code",
   "execution_count": 4,
   "metadata": {
    "ExecuteTime": {
     "end_time": "2019-07-03T09:53:05.112502Z",
     "start_time": "2019-07-03T09:53:05.105864Z"
    }
   },
   "outputs": [],
   "source": [
    "def sjekk_svar(my_list):\n",
    "    sum_right = 0\n",
    "    for i in range(0, 20):\n",
    "        if my_list[i] == fasit[i]:\n",
    "            sum_right += 5\n",
    "    print(f\"Du har {sum_right}% riktig.\")\n",
    "    return sum_right"
   ]
  },
  {
   "cell_type": "markdown",
   "metadata": {
    "deletable": false,
    "editable": false,
    "run_control": {
     "frozen": true
    }
   },
   "source": [
    "Har du gjort det på riktig måte skal koden under gi 20% riktig. Trykk på blokka under og trykk `ctrl + enter` for å kjøre den."
   ]
  },
  {
   "cell_type": "code",
   "execution_count": 6,
   "metadata": {},
   "outputs": [
    {
     "name": "stdout",
     "output_type": "stream",
     "text": [
      "Du har 20% riktig.\n",
      "20\n"
     ]
    }
   ],
   "source": [
    "print(sjekk_svar(['B', 'B', 'B', 'B', 'B', 'B', 'B', 'B', 'B', 'B', 'B', 'B', 'B', 'B', 'B', 'B', 'B', 'B', 'B', 'B']))"
   ]
  },
  {
   "cell_type": "code",
   "execution_count": null,
   "metadata": {},
   "outputs": [],
   "source": []
  }
 ],
 "metadata": {
  "kernelspec": {
   "display_name": "Python 3 (ipykernel)",
   "language": "python",
   "name": "python3"
  },
  "language_info": {
   "codemirror_mode": {
    "name": "ipython",
    "version": 3
   },
   "file_extension": ".py",
   "mimetype": "text/x-python",
   "name": "python",
   "nbconvert_exporter": "python",
   "pygments_lexer": "ipython3",
   "version": "3.9.7"
  },
  "toc": {
   "base_numbering": 1,
   "nav_menu": {},
   "number_sections": false,
   "sideBar": true,
   "skip_h1_title": false,
   "title_cell": "Table of Contents",
   "title_sidebar": "Contents",
   "toc_cell": false,
   "toc_position": {},
   "toc_section_display": true,
   "toc_window_display": false
  }
 },
 "nbformat": 4,
 "nbformat_minor": 4
}
