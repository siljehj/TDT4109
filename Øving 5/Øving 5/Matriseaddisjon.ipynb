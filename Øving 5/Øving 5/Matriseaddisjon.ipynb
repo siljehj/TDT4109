{
 "cells": [
  {
   "cell_type": "markdown",
   "metadata": {
    "deletable": false,
    "editable": false,
    "run_control": {
     "frozen": true
    }
   },
   "source": [
    "<nav class=\"navbar navbar-default\">\n",
    "  <div class=\"container-fluid\">\n",
    "    <div class=\"navbar-header\">\n",
    "      <a class=\"navbar-brand\" href=\"_Oving5.ipynb\">Øving 5</a>\n",
    "    </div>\n",
    "    <ul class=\"nav navbar-nav\">\n",
    "      <li ><a href=\"Generelt%20om%20lister.ipynb\">Generelt om lister</a></li>\n",
    "    <li ><a href=\"Lett%20og%20blandet.ipynb\">Lett og blandet</a></li>\n",
    "    <li ><a href=\"Kodeforstaelse.ipynb\">Kodeforståelse</a></li>\n",
    "    <li ><a href=\"Vektorer.ipynb\">Vektorer</a></li>\n",
    "    <li ><a href=\"Lister%20og%20lokker.ipynb\">Lister og løkker</a></li>\n",
    "    <li ><a href=\"Teoridelen%20paa%20eksamen.ipynb\">Teoridelen på eksamen</a></li>\n",
    "    <li ><a href=\"Gangetabell%20og%20lister.ipynb\">Gangetabell og lister</a></li>\n",
    "    <li ><a href=\"Lotto.ipynb\">Lotto</a></li>\n",
    "    <li ><a href=\"Tannfeen.ipynb\">Tannfeen</a></li>\n",
    "        <li ><a href=\"Chattebot.ipynb\">Chattebot</a></li>\n",
    "    <li class=\"active\"><a href=\"Matriseaddisjon.ipynb\">Matriseaddisjon</a></li>\n",
    "    </ul>\n",
    "  </div>\n",
    "</nav>\n",
    "\n",
    "# Matriseaddisjon\n",
    "\n",
    "**Læringsmål:**\n",
    "\n",
    "* Lister av flere dimensjoner\n",
    "\n",
    "**Starting Out with Python:**\n",
    "\n",
    "* Kap. 7.8\n",
    "\n",
    "I denne oppgaven skal du implementere noen funksjoner slik at to matriser blir skrevet ut på et fint format og addert med hverandre. \n",
    "\n",
    "En matrise er et godt eksempel på en todimensjonal liste av tall som har et bestemt antall rader x og et bestemt antall kolonner y. Du kan tenke på en matrise som en liste med x antall elementer, hvor hvert element er en liste av størrelse y. I denne oppgaven skal vi se på matriseaddisjon. I denne oppgaven definerer vi addisjon av to matriser på samme måte som med vektoraddisjon: dersom vi skal summere matrise a med b og kaller den nye matrisen for c, vil *c[x][y]* være *a[x][y]* + *b[x][y]*, hvor *c[x][y]* er elementet i matrisen c som befinner seg på rad *x* og kolonne *y*.\n",
    "\n",
    "Du får gitt en main-funksjon med følgende kode:"
   ]
  },
  {
   "cell_type": "code",
   "execution_count": 9,
   "metadata": {
    "ExecuteTime": {
     "end_time": "2019-07-03T11:03:43.356638Z",
     "start_time": "2019-07-03T11:03:43.345161Z"
    }
   },
   "outputs": [],
   "source": [
    "def main():\n",
    "    A = random_matrise(4,3)\n",
    "    print_matrise(A, 'A')\n",
    "    B = random_matrise(3,4)\n",
    "    print_matrise(B, 'B')\n",
    "    C = random_matrise(3,4)\n",
    "    print_matrise(C, 'C')\n",
    "    D = matrise_addisjon(A,B)\n",
    "    E = matrise_addisjon(B,C)\n",
    "    print_matrise(E, 'B + C' )"
   ]
  },
  {
   "cell_type": "code",
   "execution_count": 2,
   "metadata": {
    "ExecuteTime": {
     "end_time": "2019-07-03T11:03:58.395784Z",
     "start_time": "2019-07-03T11:03:58.385979Z"
    },
    "deletable": false,
    "editable": false,
    "run_control": {
     "frozen": true
    }
   },
   "outputs": [
    {
     "ename": "SyntaxError",
     "evalue": "invalid syntax (1063233008.py, line 1)",
     "output_type": "error",
     "traceback": [
      "\u001b[1;36m  Cell \u001b[1;32mIn [2], line 1\u001b[1;36m\u001b[0m\n\u001b[1;33m    som, etter at du har gjort oppgaven, skal gi følgende utskrift:\u001b[0m\n\u001b[1;37m               ^\u001b[0m\n\u001b[1;31mSyntaxError\u001b[0m\u001b[1;31m:\u001b[0m invalid syntax\n"
     ]
    }
   ],
   "source": [
    "som, etter at du har gjort oppgaven, skal gi følgende utskrift:\n",
    "\n",
    "```python\n",
    "A=[\n",
    "   [1, 8, 4, 3]\n",
    "   [5, 1, 5, 8]\n",
    "   [9, 5, 8, 0]\n",
    "  ]\n",
    "B=[\n",
    "   [7, 3, 3]\n",
    "   [2, 1, 7]\n",
    "   [2, 2, 3]\n",
    "   [3, 5, 9]\n",
    "  ]\n",
    "C=[\n",
    "   [4, 4, 6]\n",
    "   [1, 9, 0]\n",
    "   [9, 8, 5]\n",
    "   [2, 9, 5]\n",
    "  ]\n",
    "Matrisene er ikke av samme dimensjon # A og B har ulike dimensjoner (ulikt antall rader og kolonner)\n",
    "B+C=[\n",
    "     [11, 7, 9]\n",
    "     [3, 10, 7]\n",
    "     [11, 10, 8]\n",
    "     [5, 14, 14]\n",
    "    ]\n",
    "    ```\n",
    "    \n",
    "    \n",
    "**Din oppgave**\n",
    "\n",
    "Implementer funksjonene `random_matrise(bredde, høyde)`, `print_matrise(matrise, navn)` og `matrise_addisjon(a, b)` slik at utskriften av `main()` gir utskriften over.\n",
    "\n",
    "1. Funksjonen `random_matrise(bredde, høyde)` skal returnere en matrise med *høyde* antall rader og *bredde* antall kolonner. Matrisen skal være fylt med tilfeldige tall fra og med 0 til 10. Bruk random-biblioteket.\n",
    "2. `print_matrise(matrise, navn)` skal printe ut matrisene på samme format som vist i utskriften over. \n",
    "3. `matrise_addisjon(a, b)` skal ta inn to matriser og returnere en matrise som er summen av a og b. Dersom to matriser er av ulik størrelse er det umulig å addere matrisene og \"Matrisene er ikke av samme dimensjon\" skal skrives ut. \n",
    "\n",
    "***Skriv koden din i boksen under.***"
   ]
  },
  {
   "cell_type": "code",
   "execution_count": 10,
   "metadata": {},
   "outputs": [
    {
     "name": "stdout",
     "output_type": "stream",
     "text": [
      "A =\n",
      "[5, 2, 10, 5]\n",
      "[1, 0, 8, 4]\n",
      "[5, 8, 9, 8]\n",
      "\n",
      "B =\n",
      "[2, 7, 9]\n",
      "[5, 4, 1]\n",
      "[9, 2, 1]\n",
      "[10, 6, 10]\n",
      "\n",
      "C =\n",
      "[3, 3, 10]\n",
      "[3, 8, 10]\n",
      "[5, 6, 6]\n",
      "[3, 10, 9]\n",
      "\n",
      "Matrisene er ikke av samme dimensjon!\n",
      "\n",
      "B + C =\n",
      "[5, 10, 19]\n",
      "[8, 12, 11]\n",
      "[14, 8, 7]\n",
      "[13, 16, 19]\n",
      "\n"
     ]
    }
   ],
   "source": [
    "from random import *\n",
    "\n",
    "def random_matrise(width, height):\n",
    "    matrix = []\n",
    "    for i in range(height): #lage i (height) lister\n",
    "        list1 = []\n",
    "        for j in range(width):  #legge til j (width) elementer i liste\n",
    "            list1.append(randint(0,10))\n",
    "        matrix.append(list1)\n",
    "    return matrix\n",
    "\n",
    "def print_matrise(matrix, name):\n",
    "    print(name, \"=\")\n",
    "    for x in range(len(matrix)):\n",
    "        print(matrix[x])\n",
    "    print()\n",
    "\n",
    "def matrise_addisjon(a, b):\n",
    "    if (len(a) != len(b)) or (len(a[0]) != len(b[0])):\n",
    "        print(\"Matrisene er ikke av samme dimensjon!\\n\")\n",
    "        return False\n",
    "    matrix = []\n",
    "    for i in range(len(a)):\n",
    "        list1 = []\n",
    "        for j in range(len(a[0])):\n",
    "            c = a[i][j] + b[i][j]\n",
    "            list1.append(c)\n",
    "        matrix.append(list1)\n",
    "    return matrix\n",
    "\n",
    "main()"
   ]
  },
  {
   "cell_type": "markdown",
   "metadata": {
    "deletable": false,
    "editable": false,
    "heading_collapsed": true,
    "run_control": {
     "frozen": true
    }
   },
   "source": [
    "#### Hint"
   ]
  },
  {
   "cell_type": "markdown",
   "metadata": {
    "deletable": false,
    "editable": false,
    "hidden": true,
    "run_control": {
     "frozen": true
    }
   },
   "source": [
    "For å sjekke om to matriser er av samme dimensjon må du sjekke om de både har samme antall rader og samme antall kolonner. len(matrise) returnerer antall rader en matrise har, og len(matrise[0]) returnerer antall kolonner i matrisen."
   ]
  }
 ],
 "metadata": {
  "kernelspec": {
   "display_name": "Python 3.10.4 64-bit",
   "language": "python",
   "name": "python3"
  },
  "language_info": {
   "codemirror_mode": {
    "name": "ipython",
    "version": 3
   },
   "file_extension": ".py",
   "mimetype": "text/x-python",
   "name": "python",
   "nbconvert_exporter": "python",
   "pygments_lexer": "ipython3",
   "version": "3.10.4"
  },
  "toc": {
   "base_numbering": 1,
   "nav_menu": {},
   "number_sections": false,
   "sideBar": true,
   "skip_h1_title": false,
   "title_cell": "Table of Contents",
   "title_sidebar": "Contents",
   "toc_cell": false,
   "toc_position": {},
   "toc_section_display": true,
   "toc_window_display": false
  },
  "vscode": {
   "interpreter": {
    "hash": "9367f1a32e823c431508da9bd7241112bf2c9c0db7b55557878619f3004074ed"
   }
  }
 },
 "nbformat": 4,
 "nbformat_minor": 4
}
