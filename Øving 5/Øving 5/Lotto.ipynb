{
 "cells": [
  {
   "cell_type": "markdown",
   "metadata": {
    "deletable": false,
    "editable": false,
    "run_control": {
     "frozen": true
    }
   },
   "source": [
    "<nav class=\"navbar navbar-default\">\n",
    "  <div class=\"container-fluid\">\n",
    "    <div class=\"navbar-header\">\n",
    "      <a class=\"navbar-brand\" href=\"_Oving5.ipynb\">Øving 5</a>\n",
    "    </div>\n",
    "    <ul class=\"nav navbar-nav\">\n",
    "      <li ><a href=\"Generelt%20om%20lister.ipynb\">Generelt om lister</a></li>\n",
    "    <li ><a href=\"Lett%20og%20blandet.ipynb\">Lett og blandet</a></li>\n",
    "    <li ><a href=\"Kodeforstaelse.ipynb\">Kodeforståelse</a></li>\n",
    "    <li ><a href=\"Vektorer.ipynb\">Vektorer</a></li>\n",
    "    <li ><a href=\"Lister%20og%20lokker.ipynb\">Lister og løkker</a></li>\n",
    "    <li ><a href=\"Teoridelen%20paa%20eksamen.ipynb\">Teoridelen på eksamen</a></li>\n",
    "    <li ><a href=\"Gangetabell%20og%20lister.ipynb\">Gangetabell og lister</a></li>\n",
    "    <li class=\"active\"><a href=\"Lotto.ipynb\">Lotto</a></li>\n",
    "    <li ><a href=\"Tannfeen.ipynb\">Tannfeen</a></li>\n",
    "        <li><a href=\"Chattebot.ipynb\">Chattebot</a></li>\n",
    "    <li ><a href=\"Matriseaddisjon.ipynb\">Matriseaddisjon</a></li>\n",
    "    </ul>\n",
    "  </div>\n",
    "</nav>\n",
    "\n",
    "# Lotto\n",
    "\n",
    "**Læringsmål:**\n",
    "\n",
    "* Lister\n",
    "* Tilfeldige tall\n",
    "\n",
    "**Starting Out with Python:**\n",
    "\n",
    "* Kap. 7\n",
    "\n",
    "I denne oppgaven lage du lage en lottosimulator. \n",
    "\n",
    "Reglene er som følger:\n",
    "\n",
    "* Det trekkes ut 7 lottotall og 3 tilleggstall fra og med 1 til og med 34. Alle tallene som trekkes skal være unike.\n",
    "* Premier deles ut basert på følgende tabell:\n",
    "\n",
    "Premiergruppe|Premie (kr)\n",
    ":---|---\n",
    "7 rette\t|2 749 455\n",
    "6 rette + 1 tilleggstall\t|102 110\n",
    "6 rette\t|3 385\n",
    "5 rette\t|95\n",
    "4 rette + 1 tilleggstall\t|45"
   ]
  },
  {
   "cell_type": "markdown",
   "metadata": {
    "deletable": false,
    "editable": false,
    "run_control": {
     "frozen": true
    }
   },
   "source": [
    "### a)"
   ]
  },
  {
   "cell_type": "markdown",
   "metadata": {
    "deletable": false,
    "editable": false,
    "run_control": {
     "frozen": true
    }
   },
   "source": [
    "Lag en liste som heter `numbers` og som inneholder alle heltall fra og med 1 til og med 34.\n",
    "\n",
    "***Skriv koden din i boksen under.***"
   ]
  },
  {
   "cell_type": "code",
   "execution_count": 8,
   "metadata": {
    "ExecuteTime": {
     "end_time": "2019-07-03T10:21:03.176781Z",
     "start_time": "2019-07-03T10:21:03.167560Z"
    }
   },
   "outputs": [],
   "source": [
    "numbers = []\n",
    "\n",
    "for i in range(1, 35):\n",
    "    numbers.append(i)"
   ]
  },
  {
   "cell_type": "markdown",
   "metadata": {
    "deletable": false,
    "editable": false,
    "run_control": {
     "frozen": true
    }
   },
   "source": [
    "### b)"
   ]
  },
  {
   "cell_type": "markdown",
   "metadata": {
    "deletable": false,
    "editable": false,
    "run_control": {
     "frozen": true
    }
   },
   "source": [
    "Lag en liste som heter `myGuess` med 7 tall. Denne listen inneholder tallene som du tipper.\n",
    "\n",
    "***Skriv koden din i boksen under.***"
   ]
  },
  {
   "cell_type": "code",
   "execution_count": 9,
   "metadata": {
    "ExecuteTime": {
     "end_time": "2019-07-03T10:21:45.639510Z",
     "start_time": "2019-07-03T10:21:45.634558Z"
    }
   },
   "outputs": [],
   "source": [
    "myGuess = [1, 13, 17, 19, 4, 9, 2]"
   ]
  },
  {
   "cell_type": "markdown",
   "metadata": {
    "deletable": false,
    "editable": false,
    "run_control": {
     "frozen": true
    }
   },
   "source": [
    "### c) "
   ]
  },
  {
   "cell_type": "markdown",
   "metadata": {
    "deletable": false,
    "editable": false,
    "run_control": {
     "frozen": true
    }
   },
   "source": [
    "Lag en funksjon som tar inn `n` som argument og som trekker ut `n` tall ut av listen `numbers` og legger de i en egen liste.  \n",
    "For å gjøre ting tilfeldig: `import random` og `random.randint(n,N)` gir tilfeldige tall fra og med n til og med N.\n",
    "\n",
    "Eksempel på kjøring:\n",
    "\n",
    "```python\n",
    ">>>print(drawNumbers(numbers, 7))\n",
    "[16, 33, 5, 20, 7, 4, 8]\n",
    "```\n",
    "\n",
    "***Skriv koden din i boksen under.***"
   ]
  },
  {
   "cell_type": "code",
   "execution_count": 10,
   "metadata": {
    "ExecuteTime": {
     "end_time": "2019-07-03T10:25:33.636784Z",
     "start_time": "2019-07-03T10:25:33.631639Z"
    }
   },
   "outputs": [],
   "source": [
    "import random\n",
    "\n",
    "def drawNumbers(n):\n",
    "    numbers_1 = numbers.copy()\n",
    "    random_numbers = []\n",
    "    for i in range(1, n + 1):\n",
    "        a = random.randint(0, len(numbers_1) - 1)\n",
    "        random_numbers.append(numbers_1[a])\n",
    "        numbers_1.pop(a)\n",
    "    return random_numbers"
   ]
  },
  {
   "cell_type": "markdown",
   "metadata": {
    "deletable": false,
    "editable": false,
    "heading_collapsed": true,
    "run_control": {
     "frozen": true
    }
   },
   "source": [
    "#### Hint"
   ]
  },
  {
   "cell_type": "markdown",
   "metadata": {
    "deletable": false,
    "editable": false,
    "hidden": true,
    "run_control": {
     "frozen": true
    }
   },
   "source": [
    "Hint: Bruk funksjonene `pop()` og `append()` for å fjerne og legge til elementer i en liste. Husk at pop fjerner et element i en indeks i lista, den fjerner ikke tallet. Så numbers.pop(rand_num) fjerner elementet på indeks rand_num - altså hvis rand_num er 13 fjernes tallet på indeks 13, ikke tallet 13!"
   ]
  },
  {
   "cell_type": "markdown",
   "metadata": {
    "deletable": false,
    "editable": false,
    "run_control": {
     "frozen": true
    }
   },
   "source": [
    "### d)"
   ]
  },
  {
   "cell_type": "markdown",
   "metadata": {
    "deletable": false,
    "editable": false,
    "run_control": {
     "frozen": true
    }
   },
   "source": [
    "Lag funksjonen `compList` som sammenligner to lister med tall. Antall like tall i listene skal returneres.\n",
    "\n",
    "Eksempel på kjøring:\n",
    "\n",
    "```python\n",
    ">>>print(compList(drawNumbers(numbers,7),myGuess))\n",
    "1\n",
    "```\n",
    "\n",
    "***Skriv koden din i boksen under.***"
   ]
  },
  {
   "cell_type": "code",
   "execution_count": 11,
   "metadata": {
    "ExecuteTime": {
     "end_time": "2019-07-03T10:28:03.696473Z",
     "start_time": "2019-07-03T10:28:03.691094Z"
    }
   },
   "outputs": [],
   "source": [
    "def compList(list1, list2):\n",
    "    sum_right = 0\n",
    "    for i in range(0, len(list1)):\n",
    "        for j in range(0, len(list2)):\n",
    "            if list1[i] == list2[j]:\n",
    "                sum_right += 1\n",
    "    return sum_right"
   ]
  },
  {
   "cell_type": "markdown",
   "metadata": {
    "deletable": false,
    "editable": false,
    "run_control": {
     "frozen": true
    }
   },
   "source": [
    "### e)"
   ]
  },
  {
   "cell_type": "markdown",
   "metadata": {
    "deletable": false,
    "editable": false,
    "run_control": {
     "frozen": true
    }
   },
   "source": [
    "Lag en funksjon som tar inn antall like tall og like tilleggstall, og returnerer premien du har vunnet.\n",
    "\n",
    "Eksempel på kjøring:\n",
    "\n",
    "```python\n",
    ">>>print(Winnings(7,1))\n",
    "2749455\n",
    ">>>print(Winnings(5,2))\n",
    "95\n",
    ">>>print(Winnings(3,1))\n",
    "0\n",
    "```\n",
    "\n",
    "***Skriv koden din i boksen under.***"
   ]
  },
  {
   "cell_type": "code",
   "execution_count": 12,
   "metadata": {
    "ExecuteTime": {
     "end_time": "2019-07-03T10:30:20.037475Z",
     "start_time": "2019-07-03T10:30:20.032125Z"
    }
   },
   "outputs": [],
   "source": [
    "def winnings(numbers_alike, numbers_2_alike):\n",
    "    cash = [0, 45, 95, 3385, 102110, 2749455]\n",
    "    if numbers_alike == 7:\n",
    "        price = cash[5]\n",
    "    elif numbers_alike == 6 and numbers_2_alike > 0:\n",
    "        price = cash[4]\n",
    "    elif numbers_alike == 6:\n",
    "        price = cash[3]\n",
    "    elif numbers_alike == 5:\n",
    "        price = cash[2]\n",
    "    elif numbers_alike == 4 and numbers_2_alike > 0:\n",
    "        price = cash[1]\n",
    "    else:\n",
    "        price = cash[0]\n",
    "    return price"
   ]
  },
  {
   "cell_type": "markdown",
   "metadata": {
    "deletable": false,
    "editable": false,
    "run_control": {
     "frozen": true
    }
   },
   "source": [
    "### f)"
   ]
  },
  {
   "cell_type": "markdown",
   "metadata": {
    "deletable": false,
    "editable": false,
    "run_control": {
     "frozen": true
    }
   },
   "source": [
    "Funksjonene skal settes sammen i main() slik at dette blir en fullverdig lottosimulator (for en lottorekke). Tallene du skal trekke ut (både lottotallene og tilleggstallene) kan legges i samme liste. Funksjonen `compList` kan da sammenligne de første 7 tallene, og så de siste 3 tallene, for å finne ut hvor mange like tall du har. main() skal returnere hvor mye du har tjent eller mest sannsynlig tapt på denne lottorekken. Dersom en lottorekke kosten 5 kroner, vil -5 returneres dersom Winnings() er 0. Hvis du er heldig og Winnings() blir 95 skal 90 returneres fra main(). \n",
    "\n",
    "**Husk at du kan bruke alle funksjoner du har definert over!**\n",
    "\n",
    "***Skriv koden din i boksen under.***"
   ]
  },
  {
   "cell_type": "code",
   "execution_count": 33,
   "metadata": {
    "ExecuteTime": {
     "end_time": "2019-07-03T10:32:57.485045Z",
     "start_time": "2019-07-03T10:32:57.477602Z"
    }
   },
   "outputs": [
    {
     "data": {
      "text/plain": [
       "-5"
      ]
     },
     "execution_count": 33,
     "metadata": {},
     "output_type": "execute_result"
    }
   ],
   "source": [
    "def main():\n",
    "    num = drawNumbers(7)\n",
    "    num_2 = drawNumbers(3)\n",
    "    sim_numbers = compList(num, myGuess)\n",
    "    sim_numbers_2 = compList(num_2, myGuess)\n",
    "    price = winnings(sim_numbers, sim_numbers_2)\n",
    "    gain = price - 5\n",
    "    return gain\n",
    "\n",
    "main()"
   ]
  },
  {
   "cell_type": "markdown",
   "metadata": {
    "deletable": false,
    "editable": false,
    "run_control": {
     "frozen": true
    }
   },
   "source": [
    "### g) frivillig"
   ]
  },
  {
   "cell_type": "markdown",
   "metadata": {
    "deletable": false,
    "editable": false,
    "run_control": {
     "frozen": true
    }
   },
   "source": [
    "Finn ut hvor mye man har vunnet etter å ha tippet en million ganger. Anta at premiepotten er det samme hver uke, og at en lottorekke koster 5 kroner.\n",
    "\n",
    "***Skriv koden din i boksen under.***"
   ]
  },
  {
   "cell_type": "code",
   "execution_count": 70,
   "metadata": {
    "ExecuteTime": {
     "end_time": "2019-07-03T10:33:24.728040Z",
     "start_time": "2019-07-03T10:33:24.722740Z"
    }
   },
   "outputs": [
    {
     "name": "stdout",
     "output_type": "stream",
     "text": [
      "102105\n",
      "102105\n",
      "102105\n",
      "102105\n",
      "102105\n",
      "102105\n",
      "102105\n",
      "102105\n",
      "102105\n",
      "102105\n",
      "102105\n",
      "102105\n",
      "102105\n",
      "102105\n",
      "102105\n",
      "102105\n",
      "Total:  -2757610\n"
     ]
    }
   ],
   "source": [
    "total = 0\n",
    "\n",
    "for x in range(1000000):\n",
    "    money_gained = main()\n",
    "    total += money_gained\n",
    "\n",
    "print(\"Total: \", total)"
   ]
  },
  {
   "cell_type": "code",
   "execution_count": null,
   "metadata": {},
   "outputs": [],
   "source": []
  },
  {
   "cell_type": "code",
   "execution_count": null,
   "metadata": {},
   "outputs": [],
   "source": []
  }
 ],
 "metadata": {
  "kernelspec": {
   "display_name": "Python 3.10.4 64-bit",
   "language": "python",
   "name": "python3"
  },
  "language_info": {
   "codemirror_mode": {
    "name": "ipython",
    "version": 3
   },
   "file_extension": ".py",
   "mimetype": "text/x-python",
   "name": "python",
   "nbconvert_exporter": "python",
   "pygments_lexer": "ipython3",
   "version": "3.10.4"
  },
  "toc": {
   "base_numbering": 1,
   "nav_menu": {},
   "number_sections": false,
   "sideBar": true,
   "skip_h1_title": false,
   "title_cell": "Table of Contents",
   "title_sidebar": "Contents",
   "toc_cell": false,
   "toc_position": {},
   "toc_section_display": true,
   "toc_window_display": false
  },
  "vscode": {
   "interpreter": {
    "hash": "9367f1a32e823c431508da9bd7241112bf2c9c0db7b55557878619f3004074ed"
   }
  }
 },
 "nbformat": 4,
 "nbformat_minor": 4
}
