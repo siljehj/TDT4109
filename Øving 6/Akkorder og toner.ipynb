{
 "cells": [
  {
   "cell_type": "markdown",
   "source": [
    "<nav class=\"navbar navbar-default\">\n",
    "  <div class=\"container-fluid\">\n",
    "    <div class=\"navbar-header\">\n",
    "      <a class=\"navbar-brand\" href=\"_Oving6.ipynb\">Øving 6</a>\n",
    "    </div>\n",
    "    <ul class=\"nav navbar-nav\">\n",
    "    <li ><a href=\"Aksessering.ipynb\">Aksessering av karakter</a></li>\n",
    "    <li ><a href=\"Strenger%20og%20konkatinering.ipynb\">Konkatinering</a></li>\n",
    "    <li ><a href=\"Slicing.ipynb\">Slicing</a></li>\n",
    "    <li ><a href=\"Tekstbehandling.ipynb\">Tekstbehandling</a></li>\n",
    "    <li ><a href=\"Strenghandtering.ipynb\">Strenghåndtering</a></li>\n",
    "    <li ><a href=\"Innebygde%20funksjoner.ipynb\">Innebygde funksjoner og lister</a></li>\n",
    "    <li ><a href=\"Fjesboka.ipynb\">Fjesboka</a></li>\n",
    "    <li class=\"active\"><a href=\"Akkorder%20og%20toner.ipynb\">Akkorder og toner</a></li>\n",
    "    <li ><a href=\"Ideel%20gasslov.ipynb\">Ideel Gasslov</a></li>\n",
    "    <li><a href=\"Sammenhengende%20tallrekke.ipynb\">Sammenhengende Tallrekke</a></li>\n",
    "    <li ><a href=\"Sortering.ipynb\">Sortering</a></li>\n",
    "    <li ><a href=\"Strengmanipulasjon.ipynb\">Strengmanipulasjon</a></li>\n",
    "    <li ><a href=\"Kryptering.ipynb\">Kryptering</a></li>\n",
    "    <li ><a href=\"Litt%20sjakk.ipynb\">Litt Sjakk</a></li>\n",
    "    </ul>\n",
    "  </div>\n",
    "</nav>\n",
    "\n",
    "# Akkorder og toner\n",
    "\n",
    "**Læringsmål:**\n",
    "\n",
    "* Løkker\n",
    "* Lister\n",
    "\n",
    "**Starting Out with Python:**\n",
    "\n",
    "* Kap. 7: Lists and Tuples\n",
    " \n",
    "\n",
    "I denne oppgaven skal du lage en funksjon som tar inn en akkord som et argument, og returnerer en liste med alle akkordtonene."
   ],
   "metadata": {
    "deletable": false,
    "editable": false,
    "run_control": {
     "frozen": true
    }
   }
  },
  {
   "cell_type": "markdown",
   "source": [
    "## Lynkurs i musikkteori"
   ],
   "metadata": {
    "deletable": false,
    "editable": false,
    "heading_collapsed": true,
    "run_control": {
     "frozen": true
    }
   }
  },
  {
   "cell_type": "markdown",
   "source": [
    "I denne oppgaven ser vi i hovedsak kun på akkorder bestående av tre toner. Akkorder består av en grunntone, en ters (den mellomste tonene) og en kvint (den øverste tonen). I akkorden 'C', er grunntonen 'C', tersen er 'E' og kvinten er 'G'.\n",
    "\n",
    "For at det skal bli enklere å skjønne hvordan akkorder er satt sammen generelt, bør man dele opp tonene i halvtoner. Dette ser man enkelt på et piano. Der er det alltid en halv tone mellom tangentene som er ved siden av hverandre (når man går til nærmeste tone (svart eller hvit) som ligger opp eller ned).\n",
    "\n",
    "En durakkord er bygd opp med at man først starter med grunntonen nederst, så går man en 4 halve toner opp. Da har man den midterste tonen. For å komme til den øverste går man igjen 3 halve toner opp fra den midterste tonen.\n",
    "\n",
    "En mollakkord er bygd opp ved å starte på grunntonen, så går man 3 halve toner opp, så 4 halve toner opp derfra.\n",
    "\n",
    "Dim (diminished) akkorder er bygd opp av en grunntone, 3 halvtoner, så 3 halvtoner. Til slutt er aug (augmented) bygd opp av grunntone, 4 havltoner, så 4 halvtoner.\n",
    "\n",
    "Dette kan man f.eks. lagre i variabler på denne måten:"
   ],
   "metadata": {
    "deletable": false,
    "editable": false,
    "hidden": true,
    "run_control": {
     "frozen": true
    }
   }
  },
  {
   "cell_type": "code",
   "execution_count": null,
   "source": [
    "major = (4, 3)\n",
    "minor = (3, 4)\n",
    "dim = (3, 3)\n",
    "aug = (4, 4)"
   ],
   "outputs": [],
   "metadata": {
    "hidden": true
   }
  },
  {
   "cell_type": "markdown",
   "source": [
    "## Krav til besvarelsen"
   ],
   "metadata": {
    "deletable": false,
    "editable": false,
    "heading_collapsed": true,
    "run_control": {
     "frozen": true
    }
   }
  },
  {
   "cell_type": "markdown",
   "source": [
    "Du må støtte alle akkorder fra C til F# i høyre del av kvintsirkelen (C, G, D, A, E, B, F#), og alle akkorder fra F til Gb i venstre del av kvintsirkelen (F, Bb, Eb, Ab, Db, Gb). Altså ned til 6 kryss og 6 b-er. Se illustrasjon av kvintsirkelen under. Her anbefales det å bruker 'B' i stedet for 'H'. For hver akkord skal du støtte både dur, moll, dim og aug.\n",
    "\n",
    "Når du finner tonene til en akkord er det også viktig at du finner tonene som hører til tonearten. Når man gir inn akkorden B, skal man derfor helst få\n",
    "```\n",
    ">>> chord_notes('B')\n",
    "['B', 'D#', 'F#']\n",
    "```\n",
    "Og ikke \n",
    "```\n",
    ">>> chord_notes('B')\n",
    "['B', 'Eb', 'Gb']\n",
    "```\n",
    "![img](./../../Resources/Images/kvintsirkelen-m-kryssogb.png)"
   ],
   "metadata": {
    "deletable": false,
    "editable": false,
    "hidden": true,
    "run_control": {
     "frozen": true
    }
   }
  },
  {
   "cell_type": "markdown",
   "source": [
    "## Forslag til notasjon"
   ],
   "metadata": {
    "deletable": false,
    "editable": false,
    "heading_collapsed": true,
    "run_control": {
     "frozen": true
    }
   }
  },
  {
   "cell_type": "markdown",
   "source": [
    "Dur noteres uten noe ekstra, f.eks. C, Eb, F#.  \n",
    "Moll noteres med 'm', f.eks. Cm, Ebm, F#m.  \n",
    "Aug noteres med 'aug', f.eks. Caug, Ebaug, F#aug.  \n",
    "Dim noteres med 'dim', f.eks. Cdim, Ebdim, F#dim."
   ],
   "metadata": {
    "deletable": false,
    "editable": false,
    "hidden": true,
    "run_control": {
     "frozen": true
    }
   }
  },
  {
   "cell_type": "markdown",
   "source": [
    "## a)"
   ],
   "metadata": {
    "deletable": false,
    "editable": false,
    "run_control": {
     "frozen": true
    }
   }
  },
  {
   "cell_type": "markdown",
   "source": [
    "Lag funksjonen `get_undertone(chord)` som tar inn en akkord som en streng, og finner grunntonen til akkorden. Funksjonen skal returnere en tuppel der første element er grunntonen, mens det andre element er resten av akkorden.\n",
    "\n",
    "**Eksempel på kjøring:**\n",
    ">```python\n",
    ">>>> get_undertone(\"C\")\n",
    "('C', '')\n",
    ">>>> get_undertone(\"Ebdim\")\n",
    "('Eb', 'dim')\n",
    "```\n",
    "\n",
    "***Skriv koden din i kodeblokken under:***"
   ],
   "metadata": {
    "deletable": false,
    "editable": false,
    "run_control": {
     "frozen": true
    }
   }
  },
  {
   "cell_type": "code",
   "execution_count": null,
   "source": [],
   "outputs": [],
   "metadata": {
    "ExecuteTime": {
     "end_time": "2019-07-04T07:15:28.369547Z",
     "start_time": "2019-07-04T07:15:28.361356Z"
    }
   }
  },
  {
   "cell_type": "markdown",
   "source": [
    "For å teste koden din kan du kjøre kodeblokken under og se om du får samme output som på eksempelet lenger opp:"
   ],
   "metadata": {
    "deletable": false,
    "editable": false,
    "run_control": {
     "frozen": true
    }
   }
  },
  {
   "cell_type": "code",
   "execution_count": null,
   "source": [
    "print(get_undertone(\"C\"))\n",
    "print(get_undertone(\"Ebdim\"))"
   ],
   "outputs": [],
   "metadata": {}
  },
  {
   "cell_type": "markdown",
   "source": [
    "## b)"
   ],
   "metadata": {
    "deletable": false,
    "editable": false,
    "run_control": {
     "frozen": true
    }
   }
  },
  {
   "cell_type": "markdown",
   "source": [
    "Lag funksjonen `get_tone_list(chord)` som tar inn en akkord og finner hvilken halvdel av kvintsirkelen akkorden hører til. Funksjonen skal returnere en liste med alle halvtonene som finnes i skalaen som hører til denne akkorden. Hvis man tenker seg et piano, skal funksjonen returnere tonenavn med # hvis man gir en akkord der grunntonen er en krysstoneart. Funksjonen returnerer tonenavn med b-er for de svarte tangentene hvis man gir som argument en akkord der grunntonen er en b-toneart. Merk hva som skjer hvis man gir inn en mollakkord:  \n",
    "\n",
    "**Eksempel på kjøring:**\n",
    ">```python\n",
    ">>> get_tone_list(\"G\")\n",
    "['C', 'C#', 'D', 'D#', 'E', 'F', 'F#', 'G', 'G#', 'A', 'A#', 'B']\n",
    ">>> get_tone_list(\"Cm\")\n",
    "['C', 'Db', 'D', 'Eb', 'E', 'F', 'Gb', 'G', 'Ab', 'A', 'Bb', 'B']\n",
    ">>> get_tone_list(\"Ebdim\")\n",
    "['C', 'Db', 'D', 'Eb', 'E', 'F', 'Gb', 'G', 'Ab', 'A', 'Bb', 'B']\n",
    "```\n",
    "\n",
    "***Skriv koden din i kodeblokken under:***"
   ],
   "metadata": {
    "deletable": false,
    "editable": false,
    "run_control": {
     "frozen": true
    }
   }
  },
  {
   "cell_type": "code",
   "execution_count": null,
   "source": [],
   "outputs": [],
   "metadata": {}
  },
  {
   "cell_type": "markdown",
   "source": [
    "For å teste koden din kan du kjøre kodeblokken under og se om du får samme output som på eksempelet tidligere i oppgaven:"
   ],
   "metadata": {
    "deletable": false,
    "editable": false,
    "run_control": {
     "frozen": true
    }
   }
  },
  {
   "cell_type": "code",
   "execution_count": null,
   "source": [
    "print(get_tone_list(\"G\"))\n",
    "print(get_tone_list(\"Cm\"))\n",
    "print(get_tone_list(\"Ebdim\"))"
   ],
   "outputs": [],
   "metadata": {}
  },
  {
   "cell_type": "markdown",
   "source": [
    "## c)"
   ],
   "metadata": {
    "deletable": false,
    "editable": false,
    "run_control": {
     "frozen": true
    }
   }
  },
  {
   "cell_type": "markdown",
   "source": [
    "Nå skal du lage funksjonen `chord_notes(chord)`, som tar inn en akkord og returnerer en liste med alle akkordtonene\n",
    "**Eksempel på kjøring:**\n",
    ">```python\n",
    ">>> chord_notes(\"G\")\n",
    "['G', 'B', 'D']\n",
    ">>> chord_notes(\"Cm\")\n",
    "['C', 'Eb', 'G']\n",
    ">>> chord_notes(\"Ebdim\")\n",
    "['Eb', 'Gb', 'A']\n",
    ">>> chord_notes(\"F#aug\")\n",
    "['F#', 'A#', 'D']\n",
    "```\n",
    "\n",
    "***Skriv koden din i kodeblokken under:***"
   ],
   "metadata": {
    "deletable": false,
    "editable": false,
    "run_control": {
     "frozen": true
    }
   }
  },
  {
   "cell_type": "code",
   "execution_count": null,
   "source": [],
   "outputs": [],
   "metadata": {}
  },
  {
   "cell_type": "markdown",
   "source": [
    "For å teste at funksjonen din gjør som den skal kan du teste med koden under. Denne er den samme som i eksempelet over og burde gi samme output."
   ],
   "metadata": {
    "deletable": false,
    "editable": false,
    "run_control": {
     "frozen": true
    }
   }
  },
  {
   "cell_type": "code",
   "execution_count": null,
   "source": [
    "print(chord_notes(\"G\"))\n",
    "print(chord_notes(\"Cm\"))\n",
    "print(chord_notes(\"Ebdim\"))\n",
    "print(chord_notes(\"F#aug\"))"
   ],
   "outputs": [],
   "metadata": {}
  },
  {
   "cell_type": "markdown",
   "source": [
    "## d) Ekstraoppgave (frivillig)"
   ],
   "metadata": {
    "deletable": false,
    "editable": false,
    "run_control": {
     "frozen": true
    }
   }
  },
  {
   "cell_type": "markdown",
   "source": [
    "Utvid funksjonen din til å støtte metningstoner, som 6, 7, maj7, sus4 osv. Her kan du f.eks. kreve en notasjon hvor disse tonene kommer etter grunnakkorden separert med komma: f.eks. 'Cm,sus4,7' og 'Eb,7,#9,11'. Det er stor variasjon på hva som brukes i akkordnotasjon så det står du fritt til å velge.\n",
    "\n",
    "***Skriv koden din i kodeblokken under og sjekk at den fungerer:***"
   ],
   "metadata": {
    "deletable": false,
    "editable": false,
    "run_control": {
     "frozen": true
    }
   }
  },
  {
   "cell_type": "code",
   "execution_count": null,
   "source": [],
   "outputs": [],
   "metadata": {}
  }
 ],
 "metadata": {
  "kernelspec": {
   "display_name": "Python 3",
   "language": "python",
   "name": "python3"
  },
  "language_info": {
   "codemirror_mode": {
    "name": "ipython",
    "version": 3
   },
   "file_extension": ".py",
   "mimetype": "text/x-python",
   "name": "python",
   "nbconvert_exporter": "python",
   "pygments_lexer": "ipython3",
   "version": "3.7.4"
  },
  "toc": {
   "base_numbering": 1,
   "nav_menu": {},
   "number_sections": false,
   "sideBar": true,
   "skip_h1_title": false,
   "title_cell": "Table of Contents",
   "title_sidebar": "Contents",
   "toc_cell": false,
   "toc_position": {},
   "toc_section_display": true,
   "toc_window_display": false
  }
 },
 "nbformat": 4,
 "nbformat_minor": 2
}