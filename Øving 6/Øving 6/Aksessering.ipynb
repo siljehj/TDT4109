{
 "cells": [
  {
   "cell_type": "markdown",
   "metadata": {
    "deletable": false,
    "editable": false,
    "run_control": {
     "frozen": true
    }
   },
   "source": [
    "<nav class=\"navbar navbar-default\">\n",
    "  <div class=\"container-fluid\">\n",
    "    <div class=\"navbar-header\">\n",
    "      <a class=\"navbar-brand\" href=\"_Oving6.ipynb\">Øving 6</a>\n",
    "    </div>\n",
    "    <ul class=\"nav navbar-nav\">\n",
    "    <li class=\"active\"><a href=\"Aksessering.ipynb\">Aksessering av karakter</a></li>\n",
    "    <li ><a href=\"Strenger%20og%20konkatinering.ipynb\">Konkatinering</a></li>\n",
    "    <li ><a href=\"Slicing.ipynb\">Slicing</a></li>\n",
    "    <li ><a href=\"Tekstbehandling.ipynb\">Tekstbehandling</a></li>\n",
    "    <li ><a href=\"Strenghandtering.ipynb\">Strenghåndtering</a></li>\n",
    "    <li ><a href=\"Innebygde%20funksjoner.ipynb\">Innebygde funksjoner og lister</a></li>\n",
    "    <li><a href=\"Fjesboka.ipynb\">Fjesboka</a></li>\n",
    "    <li ><a href=\"Akkorder%20og%20toner.ipynb\">Akkorder og toner</a></li>\n",
    "    <li ><a href=\"Ideel%20gasslov.ipynb\">Ideel Gasslov</a></li>\n",
    "    <li><a href=\"Sammenhengende%20tallrekke.ipynb\">Sammenhengende Tallrekke</a></li>\n",
    "    <li ><a href=\"Sortering.ipynb\">Sortering</a></li>\n",
    "    <li ><a href=\"Strengmanipulasjon.ipynb\">Strengmanipulasjon</a></li>\n",
    "    <li ><a href=\"Kryptering.ipynb\">Kryptering</a></li>\n",
    "    <li ><a href=\"Litt%20sjakk.ipynb\">Litt Sjakk</a></li>\n",
    "    </ul>\n",
    "  </div>\n",
    "</nav>\n",
    "\n",
    "# Aksessering av karakterer i en streng\n",
    "\n",
    "**Læringsmål:**\n",
    "\n",
    "* Strenger\n",
    "* Funksjoner\n",
    "\n",
    "**Starting Out with Python:**\n",
    "\n",
    "* Kap. 8.1\n",
    "\n",
    "Denne oppgaven handler om hvordan man får tak i og returnerer karakterer i en streng."
   ]
  },
  {
   "cell_type": "markdown",
   "metadata": {
    "deletable": false,
    "editable": false,
    "heading_collapsed": true,
    "run_control": {
     "frozen": true
    }
   },
   "source": [
    "### Generelt om aksessering"
   ]
  },
  {
   "cell_type": "markdown",
   "metadata": {
    "deletable": false,
    "editable": false,
    "hidden": true,
    "run_control": {
     "frozen": true
    }
   },
   "source": [
    "**Å iterere over strenger:**\n",
    "\n",
    "Man kan lett iterere over en streng ved hjelp av en for-løkke. Den generelle formen for dette er:"
   ]
  },
  {
   "cell_type": "code",
   "execution_count": null,
   "metadata": {
    "hidden": true
   },
   "outputs": [],
   "source": [
    "for character in string:\n",
    "    # do something"
   ]
  },
  {
   "cell_type": "markdown",
   "metadata": {
    "deletable": false,
    "editable": false,
    "hidden": true,
    "run_control": {
     "frozen": true
    }
   },
   "source": [
    "For hver iterasjon vil character-variabelen referere til en karakter i string, og den vil starte med å referere til den første karakteren. Vi sier at løkken itererer over strengen. Prøv å kjør koden under."
   ]
  },
  {
   "cell_type": "code",
   "execution_count": 1,
   "metadata": {
    "hidden": true
   },
   "outputs": [
    {
     "name": "stdout",
     "output_type": "stream",
     "text": [
      "B\n",
      "o\n",
      "b\n",
      " \n",
      "B\n",
      "e\n",
      "r\n",
      "n\n",
      "t\n"
     ]
    }
   ],
   "source": [
    "name = \"Bob Bernt\"\n",
    "for ch in name:\n",
    "    print(ch)"
   ]
  },
  {
   "cell_type": "markdown",
   "metadata": {
    "deletable": false,
    "editable": false,
    "hidden": true,
    "run_control": {
     "frozen": true
    }
   },
   "source": [
    "**Indeks:**\n",
    "\n",
    "Å iterere over en streng med for-løkke er en måte å aksessere hver enkelt karakter i en streng. En annen måte for å aksessere karakterene i en streng på er å bruke indeks. Alle karakterene i en streng har hver sin indeks knyttet til deres plassering i strengen:\n",
    "\n",
    "![img](./../../Resources/Images/streng-eksempel.png)\n",
    "\n",
    "Som man kan se på bildet, starter indekseringen med 0, akkurat som for lister. For å få tak i en av karakterene og tilordne den til en variabel, skriver man\n",
    "ch = my_string[3],\n",
    "dette vil tilordne ch til 'e'.\n",
    "\n",
    "Hver karakter i strengen kan aksesseres vha. to tall: et positivt og et negativt. Om man skal ha tak i siste karakter i strengen kan man enten bruke 12 eller -1 som indeks, dvs. både \n",
    "'ch = my_string [12]' og 'ch = my_string[-1]' vil tilordne ch til 'd'. Tilsvarende vil 1 og -12 begge være indekser for 'o' i my_string."
   ]
  },
  {
   "cell_type": "code",
   "execution_count": 11,
   "metadata": {
    "hidden": true
   },
   "outputs": [
    {
     "name": "stdout",
     "output_type": "stream",
     "text": [
      "R\n",
      "o\n",
      "s\n",
      "e\n",
      "s\n",
      " \n",
      "a\n",
      "r\n",
      "e\n",
      " \n",
      "r\n",
      "e\n",
      "d\n"
     ]
    }
   ],
   "source": [
    "#prøv å kjøre koden\n",
    "my_string = 'Roses are red'\n",
    "  \n",
    "for i in range(5):\n",
    "    print(my_string[i])\n",
    "  \n",
    "for j in range(-8, 0, 1):\n",
    "    print(my_string[j])"
   ]
  },
  {
   "cell_type": "markdown",
   "metadata": {
    "deletable": false,
    "editable": false,
    "run_control": {
     "frozen": true
    }
   },
   "source": [
    "### a)"
   ]
  },
  {
   "cell_type": "markdown",
   "metadata": {
    "deletable": false,
    "editable": false,
    "run_control": {
     "frozen": true
    }
   },
   "source": [
    "Skriv en funksjon som tar inn en streng, itererer over denne, og skriver ut hver enkelt karakter til skjerm.\n",
    "\n",
    "**Eksempel på kjøring**:\n",
    "\n",
    "```python\n",
    "#Argumentet er `Nilfgaard`\n",
    "N\n",
    "i\n",
    "l\n",
    "f\n",
    "g\n",
    "a\n",
    "a\n",
    "r\n",
    "d\n",
    "```\n",
    "\n",
    "***Skriv inn koden din i kodeblokken under:***"
   ]
  },
  {
   "cell_type": "code",
   "execution_count": 5,
   "metadata": {},
   "outputs": [
    {
     "name": "stdout",
     "output_type": "stream",
     "text": [
      "d\n",
      "e\n",
      "f\n",
      " \n",
      "l\n",
      "e\n",
      "p\n",
      "p\n",
      "a\n",
      "r\n",
      "d\n"
     ]
    }
   ],
   "source": [
    "x = \"def leppard\"\n",
    "for i in range(0, len(x)):\n",
    "    print(x[i])"
   ]
  },
  {
   "cell_type": "markdown",
   "metadata": {
    "deletable": false,
    "editable": false,
    "run_control": {
     "frozen": true
    }
   },
   "source": [
    "### b)"
   ]
  },
  {
   "cell_type": "markdown",
   "metadata": {
    "deletable": false,
    "editable": false,
    "run_control": {
     "frozen": true
    }
   },
   "source": [
    "Skriv en funksjon `third_letter(string)` som tar inn en streng og returnerer den tredje bokstaven i strengen. Om lengden til strengen ikke er stor nok, skal funksjonen returnere 'q'.\n",
    "\n",
    "***Skriv inn koden din i kodeblokken under:***"
   ]
  },
  {
   "cell_type": "code",
   "execution_count": 30,
   "metadata": {},
   "outputs": [],
   "source": [
    "def third_letter(string):\n",
    "    if len(string) < 3:\n",
    "        return \"q\"\n",
    "    else:\n",
    "        return string[2]"
   ]
  },
  {
   "cell_type": "markdown",
   "metadata": {
    "deletable": false,
    "editable": false,
    "run_control": {
     "frozen": true
    }
   },
   "source": [
    "Dersom du har implementert funksjonen rett, sjekk om koden under gir forventet resultat:"
   ]
  },
  {
   "cell_type": "code",
   "execution_count": 31,
   "metadata": {
    "ExecuteTime": {
     "end_time": "2019-07-03T11:55:51.890746Z",
     "start_time": "2019-07-03T11:55:51.579310Z"
    }
   },
   "outputs": [
    {
     "name": "stdout",
     "output_type": "stream",
     "text": [
      "m\n",
      "q\n"
     ]
    }
   ],
   "source": [
    "print(third_letter(\"Temeria\")) #skal gi \"m\"\n",
    "print(third_letter(\"IT\")) #skal printe ut \"q\""
   ]
  },
  {
   "cell_type": "markdown",
   "metadata": {
    "deletable": false,
    "editable": false,
    "run_control": {
     "frozen": true
    }
   },
   "source": [
    "### c)"
   ]
  },
  {
   "cell_type": "markdown",
   "metadata": {
    "deletable": false,
    "editable": false,
    "run_control": {
     "frozen": true
    }
   },
   "source": [
    "Skriv en funksjon som tar inn en streng og returnerer største gyldige indeks, dvs. den største indeksen som ikke gir IndexError.\n",
    "\n",
    "**Eksempel på kjøring:**\n",
    "```python\n",
    "#Argumentet er \"The White Wolf\"\n",
    "13\n",
    "  \n",
    "#Argumentet er \"Redania\"\n",
    "6\n",
    "```\n",
    "\n",
    "***Skriv koden i kodeblokken under:***"
   ]
  },
  {
   "cell_type": "code",
   "execution_count": 33,
   "metadata": {
    "ExecuteTime": {
     "end_time": "2019-07-03T12:03:11.713595Z",
     "start_time": "2019-07-03T12:03:11.706770Z"
    }
   },
   "outputs": [
    {
     "data": {
      "text/plain": [
       "4"
      ]
     },
     "execution_count": 33,
     "metadata": {},
     "output_type": "execute_result"
    }
   ],
   "source": [
    "def biggest_index(string):\n",
    "    y = len(string) - 1\n",
    "    return y\n",
    "\n",
    "biggest_index(\"Silje\")"
   ]
  }
 ],
 "metadata": {
  "kernelspec": {
   "display_name": "Python 3.10.4 64-bit",
   "language": "python",
   "name": "python3"
  },
  "language_info": {
   "codemirror_mode": {
    "name": "ipython",
    "version": 3
   },
   "file_extension": ".py",
   "mimetype": "text/x-python",
   "name": "python",
   "nbconvert_exporter": "python",
   "pygments_lexer": "ipython3",
   "version": "3.10.4"
  },
  "toc": {
   "base_numbering": 1,
   "nav_menu": {},
   "number_sections": false,
   "sideBar": true,
   "skip_h1_title": false,
   "title_cell": "Table of Contents",
   "title_sidebar": "Contents",
   "toc_cell": false,
   "toc_position": {},
   "toc_section_display": true,
   "toc_window_display": false
  },
  "vscode": {
   "interpreter": {
    "hash": "9367f1a32e823c431508da9bd7241112bf2c9c0db7b55557878619f3004074ed"
   }
  }
 },
 "nbformat": 4,
 "nbformat_minor": 2
}
