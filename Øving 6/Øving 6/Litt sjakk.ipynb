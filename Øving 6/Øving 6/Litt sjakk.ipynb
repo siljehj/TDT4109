{
 "cells": [
  {
   "cell_type": "markdown",
   "metadata": {
    "deletable": false,
    "editable": false,
    "run_control": {
     "frozen": true
    }
   },
   "source": [
    "<nav class=\"navbar navbar-default\">\n",
    "  <div class=\"container-fluid\">\n",
    "    <div class=\"navbar-header\">\n",
    "      <a class=\"navbar-brand\" href=\"_Oving6.ipynb\">Øving 6</a>\n",
    "    </div>\n",
    "    <ul class=\"nav navbar-nav\">\n",
    "    <li ><a href=\"Aksessering.ipynb\">Aksessering av karakter</a></li>\n",
    "    <li ><a href=\"Strenger%20og%20konkatinering.ipynb\">Konkatinering</a></li>\n",
    "    <li ><a href=\"Slicing.ipynb\">Slicing</a></li>\n",
    "    <li ><a href=\"Tekstbehandling.ipynb\">Tekstbehandling</a></li>\n",
    "    <li ><a href=\"Strenghandtering.ipynb\">Strenghåndtering</a></li>\n",
    "    <li ><a href=\"Innebygde%20funksjoner.ipynb\">Innebygde funksjoner og lister</a></li>\n",
    "    <li ><a href=\"Fjesboka.ipynb\">Fjesboka</a></li>\n",
    "    <li ><a href=\"Akkorder%20og%20toner.ipynb\">Akkorder og toner</a></li>\n",
    "    <li><a href=\"Ideel%20gasslov.ipynb\">Ideel Gasslov</a></li>\n",
    "    <li><a href=\"Sammenhengende%20tallrekke.ipynb\">Sammenhengende Tallrekke</a></li>\n",
    "    <li ><a href=\"Sortering.ipynb\">Sortering</a></li>\n",
    "    <li ><a href=\"Strengmanipulasjon.ipynb\">Strengmanipulasjon</a></li>\n",
    "    <li ><a href=\"Kryptering.ipynb\">Kryptering</a></li>\n",
    "    <li class=\"active\"><a href=\"Litt%20sjakk.ipynb\">Litt Sjakk</a></li>\n",
    "    </ul>\n",
    "  </div>\n",
    "</nav>\n",
    "\n",
    "# Litt sjakk\n",
    "\n",
    "**Læringsmål:**\n",
    "\n",
    "* 2d-lister\n",
    "\n",
    "**Starting Out with Python:**\n",
    "\n",
    "* Kap. 7.8: Two-Dimensional Lists \n",
    "\n",
    "I denne oppgaven skal det lages brettrepresentasjon og små deler av logikk til sjakk. Det vises kun en eksempelstilling, men husk at koden du lager skal fungere for alle mulige stillinger."
   ]
  },
  {
   "cell_type": "markdown",
   "metadata": {
    "deletable": false,
    "editable": false,
    "run_control": {
     "frozen": true
    }
   },
   "source": [
    "### a)"
   ]
  },
  {
   "cell_type": "markdown",
   "metadata": {
    "deletable": false,
    "editable": false,
    "run_control": {
     "frozen": true
    }
   },
   "source": [
    "Først trengs det en måte å representere brettet med brikkene i programmet. Dette skal gjøres vha 2d-lister, det vil si en liste som inneholder flere lister. Lag en funksjon `make_board(board_string)`, som tar inn en string-representasjon av brettet, og returnerer en 2d-liste. Inni denne listen skal det være *None* hvis det ikke er en brikke i ruten det er snakk om, og en enkel bokstav (string) for ulike brikker. Hvite brikker skal ha stor bokstav (blokkbokstav) og svarte skal ha små bokstaver. Brikke-bokstav-kombinasjoner er: (konge: k, dronning: q, tårn: r, løper: b, hest: n, og bonde: p).\n",
    "\n",
    "board_string vil være én lang string, og har et punktum for tomme ruter, og ellers samme bokstav-koding for brikkene som breskrevet over (konge: k (svart), K (hvit), osv...). Legg merke til at de første fem tegnene i stringen skal være i den øverste raden på brettet, og de siste fem skal være i den nederste raden.\n",
    "\n",
    "I dag skal vi leke med et litt mindre sjakkbrett, som kun er 5x5 ruter stort.\n",
    "\n",
    "**Eksempel på kjøring:**\n",
    ">```python\n",
    "board_string_1 = 'rkn.r.p.....P..PP.PPB.K..'\n",
    "board = make_board(board_string_1)\n",
    "```\n",
    ">```python\n",
    "board -> [['r', 'k', 'n', None, 'r'], [None, 'p', None, None, None], [None, None, 'P', None, None],  \n",
    "['P', 'P', None, 'P', 'P'], ['B', None, 'K', None, None]]\n",
    "```\n",
    "\n",
    "Her er et bilde av brettet dette eksempelet skal representere:\n",
    "\n",
    "![i](./../../Resources/Images/litt-sjakk.png)\n",
    "\n",
    "***Skriv koden i kodeblokken under og test at den fungerer som den skal***"
   ]
  },
  {
   "cell_type": "code",
   "execution_count": 2,
   "metadata": {},
   "outputs": [
    {
     "data": {
      "text/plain": [
       "[['r', 'k', 'n', None, 'r'],\n",
       " [None, 'p', None, None, None],\n",
       " [None, None, 'P', None, None],\n",
       " ['P', 'P', None, 'P', 'P'],\n",
       " ['B', None, 'K', None, None]]"
      ]
     },
     "execution_count": 2,
     "metadata": {},
     "output_type": "execute_result"
    }
   ],
   "source": [
    "def make_board(board_string):\n",
    "    board = []\n",
    "    board_string_list = list(board_string)\n",
    "    for i in range(0, 5):\n",
    "        myList = []\n",
    "        for j in range(0, 5):\n",
    "            if board_string_list[0] == \".\":\n",
    "                myList.append(None)\n",
    "                #myList.append(\" \")\n",
    "                board_string_list.pop(0)\n",
    "            #elif board_string_list[0] == \"K\":\n",
    "                #myList.append(\"♔\")\n",
    "                #board_string_list.pop(0)\n",
    "            #elif board_string_list[0] == \"P\":\n",
    "                #myList.append(\"♙\")\n",
    "                #board_string_list.pop(0)\n",
    "            #elif board_string_list[0] == \"p\":\n",
    "                #myList.append(\"♟\")\n",
    "                #board_string_list.pop(0) \n",
    "            else:\n",
    "                myList.append(board_string_list[0])\n",
    "                board_string_list.pop(0)\n",
    "        board.append(myList)\n",
    "    return board\n",
    "\n",
    "make_board(\"rkn.r.p.....P..PP.PPB.K..\")"
   ]
  },
  {
   "cell_type": "markdown",
   "metadata": {
    "deletable": false,
    "editable": false,
    "run_control": {
     "frozen": true
    }
   },
   "source": [
    "### b)"
   ]
  },
  {
   "cell_type": "markdown",
   "metadata": {
    "deletable": false,
    "editable": false,
    "run_control": {
     "frozen": true
    }
   },
   "source": [
    "Lag en funksjon `get_piece(board, x, y)` som returnerer brikken i ruten x, y, fra 2d-listen **board**, hvor x er kolonne og y er rad. Dersom det ikke er en brikke i ruten, skal funksjonen returnere *None*. Ellers skal den returnere strengen som representerer brikken (dvs. det som befinner seg i board).\n",
    "\n",
    "Radene og kolonnene skal være 1-indekserte, det vil si rader og kolonner går fra 1 til 5. Nederste rad skal være rad 1, og venstre kolonne skal være kolonne 1.  \n",
    "Altså skal `get_piece(board, 1, 1)` returnere innholdet i nederste venstre hjørne, og `get_piece(board, 5, 5)` skal returnere innholdet i øverste høyre hjørne.\n",
    "\n",
    "**Eksempel på kjøring: (samme brett og stilling som eksempelet i oppgave a)**\n",
    ">```python\n",
    "board_string_1 = 'rkn.r.p.....P..PP.PPB.K..'\n",
    "board = make_board(board_string_1)\n",
    "```\n",
    "```python\n",
    "get_piece(board, 2, 1)\n",
    "-> None\n",
    "  ```\n",
    "  ```python\n",
    "get_piece(board, 5, 2)\n",
    "-> 'P'\n",
    "  ```\n",
    "  \n",
    "***Skriv koden i kodeblokken under og test at den fungerer som den skal***"
   ]
  },
  {
   "cell_type": "code",
   "execution_count": 3,
   "metadata": {},
   "outputs": [
    {
     "data": {
      "text/plain": [
       "'p'"
      ]
     },
     "execution_count": 3,
     "metadata": {},
     "output_type": "execute_result"
    }
   ],
   "source": [
    "def get_piece(board, x, y):\n",
    "    board = make_board(board)\n",
    "    #for elem in board:\n",
    "        #print(elem, end = \"\\n\")\n",
    "    list = [4, 3, 2, 1, 0]\n",
    "    elem = [0, 1, 2, 3, 4]\n",
    "    index1 = list[y - 1]\n",
    "    index2 = elem[x - 1]\n",
    "    piece = board[index1][index2]\n",
    "    if piece == None:\n",
    "        return None\n",
    "    return piece\n",
    "\n",
    "#hvis vi vil finne 1,1, må vi skrive board[4][0]\n",
    "#hvis vi vil finne 5, 5, må vi skrive board[0][4]\n",
    "#hvis vi vil finne 2, 4, må vi skrive board[1][1]\n",
    "#hvis vi vil finne 3, 1, må vi skrive board[4][2]\n",
    "\n",
    "get_piece(\"rkn.r.p.....P..PP.PPB.K..\", 2, 4)"
   ]
  },
  {
   "cell_type": "markdown",
   "metadata": {
    "deletable": false,
    "editable": false,
    "run_control": {
     "frozen": true
    }
   },
   "source": [
    "### c)"
   ]
  },
  {
   "cell_type": "markdown",
   "metadata": {
    "deletable": false,
    "editable": false,
    "run_control": {
     "frozen": true
    }
   },
   "source": [
    "Nå skal det lages logikk for å sjekke hvilke trekk som kan gjøres av visse brikker. **I denne oppgaven ser vi kun på bonden**. For å få illustrert faktiske sjakk-regler anbefales et raskt Google-søk.\n",
    "\n",
    "Reglene du skal implementere er:\n",
    "\n",
    "* Bonden kan alltid gå ett skritt framover, med mindre det står noe i veien (på ruten foran).\n",
    "* Hvis det står en motstanders brikke i en av de to rutene skrått fremover, kan bonden slå disse.\n",
    "* Hvis bonden står i sin start-posisjon (med vårt brett, rad 2 for hvit og rad 4 for svart), kan den gå to skritt framover.\n",
    "* *Du trenger ikke å implementere \"forvandling\" som skjer når bonden har gått helt over til andre siden.*\n",
    "* *Du trenger heller ikke implementere \"en passant\". Hvis du ikke vet hva dette er, kan du ignorere dette.*\n",
    "\n",
    "Lag en funksjon `get_legal_moves(board, x, y)` som returnerer en liste med (x, y)-tupler som er gyldige trekk. Hvis funksjonen kalles med parametre som er en tom rute eller ruten inneholder noe annet enn en bonde, skal en tom liste returneres. board er en 2D-liste, og x og y er heltall. Her er det lurt å bruke `get_piece`-funksjonen du har laget underveis.\n",
    "\n",
    "Her må det tas hensyn til om brikken er hvit eller svart, da de går i motsatte retninger (hint: funksjonen ord(c) kan brukes til å få tak i ASCII-verdien til bokstaven c. Dette kan brukes til å enkelt skille mellom svarte og hvite brikker)\n",
    "\n",
    "**Eksempel på kjøring: (samme brett og stilling som eksempelet i oppgave a)**\n",
    ">```python\n",
    "board_string_1 = 'rkn.r.p.....P..PP.PPB.K..'\n",
    "board = make_board(board_string_1)\n",
    "```\n",
    "``` python\n",
    "get_legal_moves(board, 4, 2)\n",
    "  -> [(4, 3), (4, 4)]\n",
    " ```\n",
    " ```python\n",
    "get_legal_moves(board, 2, 4)\n",
    "   -> [(2, 3), (3, 3)] \n",
    "  ```\n",
    "  \n",
    "***Skriv koden i kodeblokken under og test at den fungerer som den skal***"
   ]
  },
  {
   "cell_type": "code",
   "execution_count": 6,
   "metadata": {},
   "outputs": [
    {
     "name": "stdout",
     "output_type": "stream",
     "text": [
      "['r', 'k', 'n', None, 'r']\n",
      "[None, 'p', None, None, None]\n",
      "[None, 'p', 'P', None, None]\n",
      "['P', 'P', None, 'P', 'P']\n",
      "['B', None, 'K', None, None]\n"
     ]
    },
    {
     "data": {
      "text/plain": [
       "[(1, 4), (1, 3), (2, 3)]"
      ]
     },
     "execution_count": 6,
     "metadata": {},
     "output_type": "execute_result"
    }
   ],
   "source": [
    "def get_legal_moves(board, x, y):\n",
    "    myList = []\n",
    "    myBoard = make_board(board)\n",
    "    for s in myBoard:\n",
    "        print(s, end = \"\\n\")\n",
    "    \n",
    "    legal_values = [None, 1, 2, 3, 4, 5]\n",
    "\n",
    "    piece = get_piece(board, x, y)\n",
    "\n",
    "    #checking possibles moves for black pawn\n",
    "    if piece == \"p\":\n",
    "        \n",
    "        #checking if the pawn can move forward\n",
    "        if (y - 1) in legal_values and (y - 2) in legal_values:\n",
    "            piece_in_front = get_piece(board, x, y - 1)\n",
    "            piece_two_in_front = get_piece(board, x, y - 2)\n",
    "\n",
    "            if piece_in_front == None and piece_two_in_front == None and y == 4:\n",
    "                myList.append((x, y - 2))\n",
    "        \n",
    "        if (y - 1) in legal_values:\n",
    "            piece_in_front = get_piece(board, x, y - 1)\n",
    "            \n",
    "            if piece_in_front == None:\n",
    "                myList.append((x, y - 1))\n",
    "        \n",
    "        #checking if the pawn can move diagonally\n",
    "        if (y - 1) in legal_values and (x - 1) in legal_values:\n",
    "            piece_diagonal_1 = get_piece(board, x - 1, y - 1)\n",
    "\n",
    "            if type(piece_diagonal_1) == str:\n",
    "                if ord(piece_diagonal_1) >= 65 and ord(piece_diagonal_1) <= 90:\n",
    "                    myList.append((x - 1, y - 1))\n",
    "\n",
    "        if (y - 1) in legal_values and (x + 1) in legal_values:\n",
    "            piece_diagonal_2 = get_piece(board, x + 1, y - 1)\n",
    "                \n",
    "            if type(piece_diagonal_2) == str:\n",
    "                if ord(piece_diagonal_2) >= 65 and ord(piece_diagonal_2) <= 90:\n",
    "                    myList.append((x + 1, y - 1))\n",
    "\n",
    "    #checking possibles moves for white pawn\n",
    "    elif piece == \"P\":\n",
    "        \n",
    "        #checking if the pawn can move forward\n",
    "        if (y + 1) in legal_values and (y + 2) in legal_values:\n",
    "            piece_in_front = get_piece(board, x, y + 1)\n",
    "            piece_two_in_front = get_piece(board, x, y + 2)\n",
    "\n",
    "            if piece_in_front == None and piece_two_in_front == None and y == 2:\n",
    "                myList.append((x, y + 2))\n",
    "        \n",
    "        if (y + 1) in legal_values:\n",
    "            piece_in_front = get_piece(board, x, y + 1)\n",
    "        \n",
    "            if piece_in_front == None:\n",
    "                myList.append((x, y + 1))\n",
    "\n",
    "        #checking if the pawn can move diagonally\n",
    "        if (x - 1) in legal_values and (y + 1) in legal_values:\n",
    "            piece_diagonal_1 = get_piece(board, x - 1, y + 1)\n",
    "\n",
    "            if type(piece_diagonal_1) == str:\n",
    "                if ord(piece_diagonal_1) >= 97 and ord(piece_diagonal_1) <= 122:\n",
    "                    myList.append((x - 1, y + 1))\n",
    "        \n",
    "        if (x + 1) in legal_values and (y + 1) in legal_values:\n",
    "            piece_diagonal_2 = get_piece(board, x + 1, y + 1)\n",
    "        \n",
    "            if type(piece_diagonal_2) == str:\n",
    "                if ord(piece_diagonal_2) >= 97 and ord(piece_diagonal_2) <= 122:\n",
    "                    myList.append((x + 1, y + 1))\n",
    "    \n",
    "    #løkke som sjekker om x og y er mellom 0 og 5 og fjerner tuples som ikke er det\n",
    "    for elem in myList:\n",
    "        for i in elem:\n",
    "            if i < 1 or i > 5:\n",
    "                myList.pop(elem) \n",
    "    \n",
    "    return myList\n",
    "\n",
    "#uppercase letters has ASCII values 65 to 90\n",
    "#lowercase letters ASCII values 97 to 122\n",
    "\n",
    "get_legal_moves(\"rkn.r.p....pP..PP.PPB.K..\", 1, 2)"
   ]
  },
  {
   "cell_type": "code",
   "execution_count": null,
   "metadata": {},
   "outputs": [],
   "source": []
  }
 ],
 "metadata": {
  "kernelspec": {
   "display_name": "Python 3.10.4 64-bit",
   "language": "python",
   "name": "python3"
  },
  "language_info": {
   "codemirror_mode": {
    "name": "ipython",
    "version": 3
   },
   "file_extension": ".py",
   "mimetype": "text/x-python",
   "name": "python",
   "nbconvert_exporter": "python",
   "pygments_lexer": "ipython3",
   "version": "3.10.4"
  },
  "toc": {
   "base_numbering": 1,
   "nav_menu": {},
   "number_sections": false,
   "sideBar": true,
   "skip_h1_title": false,
   "title_cell": "Table of Contents",
   "title_sidebar": "Contents",
   "toc_cell": false,
   "toc_position": {},
   "toc_section_display": true,
   "toc_window_display": false
  },
  "vscode": {
   "interpreter": {
    "hash": "9367f1a32e823c431508da9bd7241112bf2c9c0db7b55557878619f3004074ed"
   }
  }
 },
 "nbformat": 4,
 "nbformat_minor": 2
}
