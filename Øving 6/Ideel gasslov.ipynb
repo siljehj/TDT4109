{
 "cells": [
  {
   "cell_type": "markdown",
   "source": [
    "<nav class=\"navbar navbar-default\">\n",
    "  <div class=\"container-fluid\">\n",
    "    <div class=\"navbar-header\">\n",
    "      <a class=\"navbar-brand\" href=\"_Oving6.ipynb\">Øving 6</a>\n",
    "    </div>\n",
    "    <ul class=\"nav navbar-nav\">\n",
    "    <li ><a href=\"Aksessering.ipynb\">Aksessering av karakter</a></li>\n",
    "    <li ><a href=\"Strenger%20og%20konkatinering.ipynb\">Konkatinering</a></li>\n",
    "    <li ><a href=\"Slicing.ipynb\">Slicing</a></li>\n",
    "    <li ><a href=\"Tekstbehandling.ipynb\">Tekstbehandling</a></li>\n",
    "    <li ><a href=\"Strenghandtering.ipynb\">Strenghåndtering</a></li>\n",
    "    <li ><a href=\"Innebygde%20funksjoner.ipynb\">Innebygde funksjoner og lister</a></li>\n",
    "    <li ><a href=\"Fjesboka.ipynb\">Fjesboka</a></li>\n",
    "    <li ><a href=\"Akkorder%20og%20toner.ipynb\">Akkorder og toner</a></li>\n",
    "    <li class=\"active\"><a href=\"Ideel%20gasslov.ipynb\">Ideel Gasslov</a></li>\n",
    "    <li><a href=\"Sammenhengende%20tallrekke.ipynb\">Sammenhengende Tallrekke</a></li>\n",
    "    <li ><a href=\"Sortering.ipynb\">Sortering</a></li>\n",
    "    <li ><a href=\"Strengmanipulasjon.ipynb\">Strengmanipulasjon</a></li>\n",
    "    <li ><a href=\"Kryptering.ipynb\">Kryptering</a></li>\n",
    "    <li ><a href=\"Litt%20sjakk.ipynb\">Litt Sjakk</a></li>\n",
    "    </ul>\n",
    "  </div>\n",
    "</nav>\n",
    "\n",
    "# Ideel gasslov\n",
    "\n",
    "**Læringsmål:**\n",
    "\n",
    "* Lister\n",
    "* Strenger\n",
    "* Løkker\n",
    "* Funksjoner\n",
    "\n",
    "**Starting Out with Python:**\n",
    "\n",
    "* Kap. 7.8: Two-Dimensional Lists\n",
    " \n",
    "\n",
    "I gasser kan man ikke endre på trykk (p), temperatur (T) og volum (V) uavhengig av hverandre. I ideelle gasser kan man uttrykke sammenhengen mellom disse størrelsene ved uttrykket\n",
    "\n",
    "**$pV=nRT$**\n",
    "\n",
    "Her er p trykk i Pa, V er volum i $m^{3}$, n er antall mol, R er 8.31452 J/Kmol, og T er absolutt temperatur i K.\n",
    "\n",
    "I denne oppgaven skal vi lage et program som regner ut trykket (p) ved forskjellige volum og temperaturer, og setter opp dette i en fin tabell."
   ],
   "metadata": {
    "deletable": false,
    "editable": false,
    "run_control": {
     "frozen": true
    }
   }
  },
  {
   "cell_type": "markdown",
   "source": [
    "## a)"
   ],
   "metadata": {
    "deletable": false,
    "editable": false,
    "run_control": {
     "frozen": true
    }
   }
  },
  {
   "cell_type": "markdown",
   "source": [
    "Lag funksjonen `p_ig(t, v, n, rgas=8.31452)` som tar inn argumentene t (temperatur), v (volum), n (antall mol) og konstanten rgas (R). Funksjonen skal returnere trykket (p).\n",
    "\n",
    "**Eksempel på kjøring:**\n",
    "```python\n",
    "# Legg merke til at man IKKE trenger å sende inn en konstant for rgas (men man kan om man ønsker),\n",
    "# siden denne blir satt til 8.31452 om det ikke blir gitt et argument\n",
    "print(p_ig(373.15,2.4,100))\n",
    "utskrift -> 129273.46408333334\n",
    "print(p_ig(293,24*10**(-3),1))\n",
    "utskrift -> 101506.43166666667\n",
    "```\n",
    "\n",
    "***Skriv koden din i kodeblokken under:***"
   ],
   "metadata": {
    "deletable": false,
    "editable": false,
    "run_control": {
     "frozen": true
    }
   }
  },
  {
   "cell_type": "code",
   "execution_count": null,
   "source": [],
   "outputs": [],
   "metadata": {}
  },
  {
   "cell_type": "markdown",
   "source": [
    "For å teste funksjonen din kan du kjøre testkoden under. (etter du har kjørt kodeblokken med funksjonen din). Koden under er den samme som eksempelet i starten av oppgaven og burde gi samme output."
   ],
   "metadata": {
    "deletable": false,
    "editable": false,
    "run_control": {
     "frozen": true
    }
   }
  },
  {
   "cell_type": "code",
   "execution_count": null,
   "source": [
    "print(p_ig(373.15,2.4,100))\n",
    "print(p_ig(293,24*10**(-3),1))"
   ],
   "outputs": [],
   "metadata": {}
  },
  {
   "cell_type": "markdown",
   "source": [
    "## b)"
   ],
   "metadata": {
    "deletable": false,
    "editable": false,
    "run_control": {
     "frozen": true
    }
   }
  },
  {
   "cell_type": "markdown",
   "source": [
    "Lag funksjonen `p_ig_pptable` som tar inn en liste med forskjellige volum, en liste med temperaturer, og en konstant for antall mol. Funksjonen skal returnere en tabell (2D-liste) der volumet inngår i den første kolonnen og trykkene i de neste kolonnene.\n",
    "\n",
    "**Eksempel på kjøring**\n",
    ">```python\n",
    "nv = 10     # number of volumes (rows)\n",
    "nt = 3      # number of temperatures (columns)\n",
    "n = 10      # [mol]\n",
    "t = [100 + float(j)*200 for j in range(nt)]     # [K]\n",
    "v = [10**(-float(i)/nv) for i in range(1, nv+1)]\n",
    "```\n",
    ">```python\n",
    "table = p_ig_pptable(v,t,n)\n",
    "print(table)  \n",
    "Skal gi utskriften ->\n",
    "[[0.7943282347242815, 10467.36051487084, 31402.08154461252, 52336.802574354195], [0.6309573444801932, 13177.626146581779, 39532.878439745335, 65888.13073290889], [0.5011872336272722, 16589.648423055052, 49768.94526916515, 82948.24211527525], [0.3981071705534972, 20885.12997251504, 62655.389917545115, 104425.64986257518], [0.31622776601683794, 26292.820851023193, 78878.46255306958, 131464.10425511596], [0.251188643150958, 33100.70031710464, 99302.10095131393, 165503.5015855232], [0.19952623149688797, 41671.31277738628, 125013.93833215884, 208356.56388693137], [0.15848931924611134, 52461.074598274565, 157383.22379482372, 262305.37299137283], [0.12589254117941673, 66044.57994179733, 198133.739825392, 330222.89970898663], [0.1, 83145.2, 249435.6, 415725.99999999994]]\n",
    "```\n",
    "\n",
    "***Skriv funksjonen din på markert plass under og sjekk at du får samme svar som i eksempelet:***"
   ],
   "metadata": {
    "deletable": false,
    "editable": false,
    "run_control": {
     "frozen": true
    }
   }
  },
  {
   "cell_type": "code",
   "execution_count": null,
   "source": [
    "# SKRIV FUNKSJONEN DIN HER\n",
    "\n",
    "nv = 10     # number of volumes (rows)\n",
    "nt = 3      # number of temperatures (columns)\n",
    "n = 10      # [mol]\n",
    "t = [100 + float(j)*200 for j in range(nt)]     # [K]\n",
    "v = [10**(-float(i)/nv) for i in range(1, nv+1)]\n",
    "\n",
    "table = p_ig_pptable(v,t,n)\n",
    "print(table)  "
   ],
   "outputs": [],
   "metadata": {}
  },
  {
   "cell_type": "markdown",
   "source": [
    "## c)"
   ],
   "metadata": {
    "deletable": false,
    "editable": false,
    "run_control": {
     "frozen": true
    }
   }
  },
  {
   "cell_type": "markdown",
   "source": [
    "Utskriften fra oppgave b) er ikke særlig fin. Du skal derfor nå skrive ferdig koden i Kodesnutt, slik at det blir skrevet ut en fin tabell lignende den i eksempelet nedenfor.\n",
    "\n",
    "**Eksempel på kjøring:**\n",
    "```python\n",
    "| Volum (m^3)         | Temp. = 100.0K      | Temp. = 300.0K      | Temp. = 500.0K      |\n",
    "-----------------------------------------------------------------------------------------\n",
    "| 0.7943282347242815  | 10467.36051487084   | 31402.08154461252   | 52336.802574354195  |\n",
    "\n",
    "| 0.6309573444801932  | 13177.626146581779  | 39532.878439745335  | 65888.13073290889   |\n",
    "\n",
    "| 0.5011872336272722  | 16589.648423055052  | 49768.94526916515   | 82948.24211527525   |\n",
    "\n",
    "| 0.3981071705534972  | 20885.12997251504   | 62655.389917545115  | 104425.64986257518  |\n",
    " \n",
    "| 0.31622776601683794 | 26292.820851023193  | 78878.46255306958   | 131464.10425511596  |\n",
    " \n",
    "| 0.251188643150958   | 33100.70031710464   | 99302.10095131393   | 165503.5015855232   |\n",
    " \n",
    "| 0.19952623149688797 | 41671.31277738628   | 125013.93833215884  | 208356.56388693137  |\n",
    " \n",
    "| 0.15848931924611134 | 52461.074598274565  | 157383.22379482372  | 262305.37299137283  |\n",
    " \n",
    "| 0.12589254117941673 | 66044.57994179733   | 198133.739825392    | 330222.89970898663  |\n",
    " \n",
    "| 0.1                 | 83145.2             | 249435.6            | 415725.99999999994  |\n",
    "```\n",
    "\n",
    "***Skriv koden din på angitt plass i kodeblokken under:***"
   ],
   "metadata": {
    "deletable": false,
    "editable": false,
    "run_control": {
     "frozen": true
    }
   }
  },
  {
   "cell_type": "code",
   "execution_count": null,
   "source": [
    "nv = 10 # number of volumes (rows) [-]\n",
    "nt = 3 # number of temperatures (columns) [-]\n",
    " \n",
    "# Variables.\n",
    "n = 10 # [mol]\n",
    "t = [100 + float(j)*200 for j in range(nt)] # [K]\n",
    "v = [10**(-float(i)/nv) for i in range(1, nv+1)]\n",
    " \n",
    "table = p_ig_pptable(v,t,n)\n",
    "  \n",
    "print(\"| Volum (m^3)\".ljust(21),\"|\",(\"Temp. = \"+str(t[0])+\"K\").ljust(19),\"|\",(\"Temp. = \"+str(t[1])+\"K\").ljust(19),\"|\",(\"Temp. = \"+str(t[2])+\"K\").ljust(19),\"|\")\n",
    "print(\"-\"*89)\n",
    "  \n",
    "#SKRIV DIN KODE HER"
   ],
   "outputs": [],
   "metadata": {}
  },
  {
   "cell_type": "markdown",
   "source": [
    "#### Hint"
   ],
   "metadata": {
    "deletable": false,
    "editable": false,
    "heading_collapsed": true,
    "run_control": {
     "frozen": true
    }
   }
  },
  {
   "cell_type": "markdown",
   "source": [
    "Bruk dobbel for-løkke, str.ljust og end=' '"
   ],
   "metadata": {
    "deletable": false,
    "editable": false,
    "hidden": true,
    "run_control": {
     "frozen": true
    }
   }
  }
 ],
 "metadata": {
  "kernelspec": {
   "display_name": "Python 3",
   "language": "python",
   "name": "python3"
  },
  "language_info": {
   "codemirror_mode": {
    "name": "ipython",
    "version": 3
   },
   "file_extension": ".py",
   "mimetype": "text/x-python",
   "name": "python",
   "nbconvert_exporter": "python",
   "pygments_lexer": "ipython3",
   "version": "3.7.4"
  },
  "toc": {
   "base_numbering": 1,
   "nav_menu": {},
   "number_sections": false,
   "sideBar": true,
   "skip_h1_title": false,
   "title_cell": "Table of Contents",
   "title_sidebar": "Contents",
   "toc_cell": false,
   "toc_position": {},
   "toc_section_display": true,
   "toc_window_display": false
  }
 },
 "nbformat": 4,
 "nbformat_minor": 2
}