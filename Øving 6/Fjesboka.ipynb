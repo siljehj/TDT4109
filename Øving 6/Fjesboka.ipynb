{
 "cells": [
  {
   "cell_type": "markdown",
   "source": [
    "<nav class=\"navbar navbar-default\">\n",
    "  <div class=\"container-fluid\">\n",
    "    <div class=\"navbar-header\">\n",
    "      <a class=\"navbar-brand\" href=\"_Oving6.ipynb\">Øving 6</a>\n",
    "    </div>\n",
    "    <ul class=\"nav navbar-nav\">\n",
    "    <li ><a href=\"Aksessering.ipynb\">Aksessering av karakter</a></li>\n",
    "    <li ><a href=\"Strenger%20og%20konkatinering.ipynb\">Konkatinering</a></li>\n",
    "    <li ><a href=\"Slicing.ipynb\">Slicing</a></li>\n",
    "    <li ><a href=\"Tekstbehandling.ipynb\">Tekstbehandling</a></li>\n",
    "    <li ><a href=\"Strenghandtering.ipynb\">Strenghåndtering</a></li>\n",
    "    <li ><a href=\"Innebygde%20funksjoner.ipynb\">Innebygde funksjoner og lister</a></li>\n",
    "    <li class=\"active\"><a href=\"Fjesboka.ipynb\">Fjesboka</a></li>\n",
    "    <li ><a href=\"Akkorder%20og%20toner.ipynb\">Akkorder og toner</a></li>\n",
    "    <li ><a href=\"Ideel%20gasslov.ipynb\">Ideel Gasslov</a></li>\n",
    "    <li><a href=\"Sammenhengende%20tallrekke.ipynb\">Sammenhengende Tallrekke</a></li>\n",
    "    <li ><a href=\"Sortering.ipynb\">Sortering</a></li>\n",
    "    <li ><a href=\"Strengmanipulasjon.ipynb\">Strengmanipulasjon</a></li>\n",
    "    <li ><a href=\"Kryptering.ipynb\">Kryptering</a></li>\n",
    "    <li ><a href=\"Litt%20sjakk.ipynb\">Litt Sjakk</a></li>\n",
    "    </ul>\n",
    "  </div>\n",
    "</nav>\n",
    "\n",
    "# Fjesboka\n",
    "\n",
    "**Læringsmål:**\n",
    "\n",
    "* Lister\n",
    "* Input\n",
    "* Strenger\n",
    "\n",
    "**Starting Out with Python:**\n",
    "\n",
    "* Kap. 7: Lists and Tuples\n",
    "* Kap. 8.3\n",
    " * s. 379-380: Splitting a String\n",
    " \n",
    "I denne oppgaven skal du ta inn informasjon fra brukere på et gitt format, lagre dataen i lister og gjøre det mulig for brukeren å hente ut denne informasjonen igjen. "
   ],
   "metadata": {
    "deletable": false,
    "editable": false,
    "run_control": {
     "frozen": true
    }
   }
  },
  {
   "cell_type": "markdown",
   "source": [
    "## a)"
   ],
   "metadata": {
    "deletable": false,
    "editable": false,
    "run_control": {
     "frozen": true
    }
   }
  },
  {
   "cell_type": "markdown",
   "source": [
    "Skriv en funksjon `add_data(user)` som skal ta inn en streng `user` på formatet: \"given_name surname age gender relationship_status\" og returnere dette i en liste.\n",
    "\n",
    "Merk at alder skal lagres som en int, mens resten lagres som strenger. (Alder vil alltid ha indeks 2 i listen.)\n",
    "\n",
    "**Eksempel på kjøring av kode**\n",
    "\n",
    ">```python\n",
    "print(add_data(\"Mark Zuckerberg 32 Male Married\"))\n",
    "skrives ut -> [\"Mark\", \"Zuckerberg\", 32, \"Male\", \"Married\"]```\n",
    "\n",
    "***Skriv koden din i kodeblokken under:***"
   ],
   "metadata": {
    "deletable": false,
    "editable": false,
    "run_control": {
     "frozen": true
    }
   }
  },
  {
   "cell_type": "code",
   "execution_count": null,
   "source": [],
   "outputs": [],
   "metadata": {
    "ExecuteTime": {
     "end_time": "2019-07-04T06:43:54.994924Z",
     "start_time": "2019-07-04T06:43:54.907411Z"
    }
   }
  },
  {
   "cell_type": "markdown",
   "source": [
    "#### Hint"
   ],
   "metadata": {
    "deletable": false,
    "editable": false,
    "heading_collapsed": true,
    "run_control": {
     "frozen": true
    }
   }
  },
  {
   "cell_type": "markdown",
   "source": [
    "Den innebygde funksjonen `.split()` returnerer en liste bestående av ordene i en streng."
   ],
   "metadata": {
    "deletable": false,
    "editable": false,
    "hidden": true,
    "run_control": {
     "frozen": true
    }
   }
  },
  {
   "cell_type": "markdown",
   "source": [
    "## b)"
   ],
   "metadata": {}
  },
  {
   "cell_type": "markdown",
   "source": [
    "Skriv en funksjon `get_person(given_name, facebook)` som tar inn et fornavn \"given_name\" og en liste \"facebook\" bestående av mange lister på formatet definert av `add_data(user)` og returnerer en liste bestående av alle personer med fornavnet **given_name.** \n",
    "\n",
    ">```python\n",
    "facebook = [[\"Mark\", \"Zuckerberg\", 32, \"Male\", \"Married\"], \n",
    "                [\"Therese\", \"Johaug\", 28, \"Female\", \"Complicated\"],\n",
    "                [\"Mark\", \"Wahlberg\", 45, \"Male\", \"Married\"],\n",
    "                [\"Siv\", \"Jensen\", 47, \"Female\", \"Single\"]]\n",
    "print(get_person(\"Mark\", facebook))\n",
    "skrives ut -> [[\"Mark\", \"Zuckerberg\", 32, \"Male\", \"Married\"], [\"Mark\", \"Wahlberg\", 45, \"Male\", \"Married\"]]```\n",
    "\n",
    "***Skriv koden din i kodeblokken under:***"
   ],
   "metadata": {}
  },
  {
   "cell_type": "code",
   "execution_count": null,
   "source": [],
   "outputs": [],
   "metadata": {}
  },
  {
   "cell_type": "markdown",
   "source": [
    "Du kan teste ut funksjonen din med kodeblokken under, (men husk å kjøre kodeblokken din over som inneholder funksjonen først)"
   ],
   "metadata": {
    "deletable": false,
    "editable": false,
    "run_control": {
     "frozen": true
    }
   }
  },
  {
   "cell_type": "code",
   "execution_count": null,
   "source": [
    "facebook = [[\"Mark\", \"Zuckerberg\", 32, \"Male\", \"Married\"], \n",
    "                [\"Therese\", \"Johaug\", 28, \"Female\", \"Complicated\"],\n",
    "                [\"Mark\", \"Wahlberg\", 45, \"Male\", \"Married\"],\n",
    "                [\"Siv\", \"Jensen\", 47, \"Female\", \"Single\"]]\n",
    "print(get_person(\"Mark\", facebook))"
   ],
   "outputs": [],
   "metadata": {}
  },
  {
   "cell_type": "markdown",
   "source": [
    "#### Hint"
   ],
   "metadata": {
    "deletable": false,
    "editable": false,
    "heading_collapsed": true,
    "run_control": {
     "frozen": true
    }
   }
  },
  {
   "cell_type": "markdown",
   "source": [
    "Fornavnet (indeks = 0) på den første personen (indeks = 0) i listen `facebook` kan finnes ved å skrive `facebook[0][0]`.\n",
    "Det er mulig å iterere gjennom listen `facebook` i stedet for å bruke `facebook[m][n]`, der `m` og `n` er heltall."
   ],
   "metadata": {
    "ExecuteTime": {
     "end_time": "2019-07-04T06:55:59.727092Z",
     "start_time": "2019-07-04T06:55:59.716757Z"
    },
    "deletable": false,
    "editable": false,
    "hidden": true,
    "run_control": {
     "frozen": true
    }
   }
  },
  {
   "cell_type": "markdown",
   "source": [
    "## c)"
   ],
   "metadata": {
    "deletable": false,
    "editable": false,
    "run_control": {
     "frozen": true
    }
   }
  },
  {
   "cell_type": "markdown",
   "source": [
    "Skriv funksjonen **main()** som lar brukeren legge til flere personer i en liste.\n",
    "\n",
    "Dette gjøres ved å be brukeren om å legge til en **user** på formen \"given_name surname age gender relationship_status\" så lenge svaret ikke er \"done\".\n",
    "\n",
    "Disse skal legges inn i en liste **facebook** ved hjelp av funksjonen `add_data(user)`.\n",
    "\n",
    "Hvis svaret er \"done\" blir brukeren sendt videre til neste steg. \n",
    "\n",
    "Deretter skal brukeren kunne printe ut informasjon om brukerene fra listen basert på fornavn ved hjelp av funksjonen `get_person(given_name)`. \n",
    "\n",
    "Hvis svaret er \"done\" er programmet ferdig.\n",
    "\n",
    "(Du kan velge om du vil printe ut listene eller skrive en melding til brukeren som vist i eksempelet under)\n",
    "\n",
    "Test programmet ved å kjøre **main()**. \n",
    "\n",
    "**Eksempel på kjøring av kode:**\n",
    "\n",
    ">```\n",
    "Hello, welcome to Facebook. Add a new user by writing \"given_name surname age gender relationship_status\".\n",
    "Add a new user: Therese Johaug 29 Female Complicated\n",
    "Add a new user: Mark Zuckerberg 33 Male Married\n",
    "Add a new user: done\n",
    "Ok\n",
    "Search for a user: Therese\n",
    "Therese Johaug is 29 years old, her relationship status is Complicated.\n",
    "Search for a user: Alf\n",
    "[]\n",
    "Search for a user: Mark\n",
    "Mark Zuckerberg is 33 years old, his relationship status is Married.\n",
    "Search for a user: done\n",
    "```\n",
    "\n",
    "***Skriv koden din i kodeblokken under:***"
   ],
   "metadata": {
    "deletable": false,
    "editable": false,
    "run_control": {
     "frozen": true
    }
   }
  },
  {
   "cell_type": "code",
   "execution_count": null,
   "source": [],
   "outputs": [],
   "metadata": {}
  }
 ],
 "metadata": {
  "kernelspec": {
   "display_name": "Python 3",
   "language": "python",
   "name": "python3"
  },
  "language_info": {
   "codemirror_mode": {
    "name": "ipython",
    "version": 3
   },
   "file_extension": ".py",
   "mimetype": "text/x-python",
   "name": "python",
   "nbconvert_exporter": "python",
   "pygments_lexer": "ipython3",
   "version": "3.7.4"
  },
  "toc": {
   "base_numbering": 1,
   "nav_menu": {},
   "number_sections": false,
   "sideBar": true,
   "skip_h1_title": false,
   "title_cell": "Table of Contents",
   "title_sidebar": "Contents",
   "toc_cell": false,
   "toc_position": {},
   "toc_section_display": true,
   "toc_window_display": false
  }
 },
 "nbformat": 4,
 "nbformat_minor": 2
}