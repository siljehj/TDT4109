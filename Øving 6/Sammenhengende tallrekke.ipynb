{
 "cells": [
  {
   "cell_type": "markdown",
   "source": [
    "<nav class=\"navbar navbar-default\">\n",
    "  <div class=\"container-fluid\">\n",
    "    <div class=\"navbar-header\">\n",
    "      <a class=\"navbar-brand\" href=\"_Oving6.ipynb\">Øving 6</a>\n",
    "    </div>\n",
    "    <ul class=\"nav navbar-nav\">\n",
    "    <li ><a href=\"Aksessering.ipynb\">Aksessering av karakter</a></li>\n",
    "    <li ><a href=\"Strenger%20og%20konkatinering.ipynb\">Konkatinering</a></li>\n",
    "    <li ><a href=\"Slicing.ipynb\">Slicing</a></li>\n",
    "    <li ><a href=\"Tekstbehandling.ipynb\">Tekstbehandling</a></li>\n",
    "    <li ><a href=\"Strenghandtering.ipynb\">Strenghåndtering</a></li>\n",
    "    <li ><a href=\"Innebygde%20funksjoner.ipynb\">Innebygde funksjoner og lister</a></li>\n",
    "    <li ><a href=\"Fjesboka.ipynb\">Fjesboka</a></li>\n",
    "    <li ><a href=\"Akkorder%20og%20toner.ipynb\">Akkorder og toner</a></li>\n",
    "    <li ><a href=\"Ideel%20gasslov.ipynb\">Ideel Gasslov</a></li>\n",
    "    <li class=\"active\"><a href=\"Sammenhengende%20tallrekke.ipynb\">Sammenhengende Tallrekke</a></li>\n",
    "    <li ><a href=\"Sortering.ipynb\">Sortering</a></li>\n",
    "    <li ><a href=\"Strengmanipulasjon.ipynb\">Strengmanipulasjon</a></li>\n",
    "    <li ><a href=\"Kryptering.ipynb\">Kryptering</a></li>\n",
    "    <li ><a href=\"Litt%20sjakk.ipynb\">Litt Sjakk</a></li>\n",
    "    </ul>\n",
    "  </div>\n",
    "</nav>\n",
    "\n",
    "# Sammenhengende tallrekke\n",
    "\n",
    "**Læringsmål:**\n",
    "\n",
    "* Lister\n",
    "\n",
    "**Starting Out with Python:**\n",
    "\n",
    "* Kap. 7: Lists and Tuples\n",
    "\n",
    "I denne oppgaven skal du sammenligne lister med tall. (Eksempel på kjøring av hver deloppgave er samlet i kodeblokk nederst på siden.)\n",
    "\n",
    " "
   ],
   "metadata": {
    "deletable": false,
    "editable": false,
    "run_control": {
     "frozen": true
    }
   }
  },
  {
   "cell_type": "markdown",
   "source": [
    "**a)** Lag en funksjon `randList(size, lower_bound, upper_bpund)` som tar inn tre heltall, `size`, `lower_bound` og `upper_bound`. Denne skal returnere en liste med tilfeldige tall i intervallet mellom `lower_bound` og `upper_bound`. Hvor mange tall listen skal inneholde er angitt av `size`.\n",
    "\n",
    "***Skriv funksjonen din i kodeblokken under og test at den fungerer***"
   ],
   "metadata": {
    "deletable": false,
    "editable": false,
    "run_control": {
     "frozen": true
    }
   }
  },
  {
   "cell_type": "code",
   "execution_count": null,
   "source": [],
   "outputs": [],
   "metadata": {}
  },
  {
   "cell_type": "markdown",
   "source": [
    "**b)** Skriv en funksjon `compareLists(list1, list2)` som sammenligner 2 lister og returnerer en liste med alle tall som var med i begge listene. Kopier skal ikke taes med. Ikke bruk innebygde funksjoner.\n",
    "\n",
    "***Skriv funksjonen din i kodeblokken under og test at den fungerer***"
   ],
   "metadata": {
    "deletable": false,
    "editable": false,
    "run_control": {
     "frozen": true
    }
   }
  },
  {
   "cell_type": "code",
   "execution_count": null,
   "source": [],
   "outputs": [],
   "metadata": {}
  },
  {
   "cell_type": "markdown",
   "source": [
    "**c)** Skriv en ny funksjon `multiCompList(lists)` som kan sammenligne et vilkårlig antall lister.  \n",
    "Hint: `lists` er en liste av lister. Ikke bruk innebygde funksjoner, men ta gjerne i bruk funksjoner du har laget tidligere i oppgaven.\n",
    "\n",
    "***Skriv funksjonen din i kodeblokken under og test at den fungerer***"
   ],
   "metadata": {
    "deletable": false,
    "editable": false,
    "run_control": {
     "frozen": true
    }
   }
  },
  {
   "cell_type": "code",
   "execution_count": 1,
   "source": [],
   "outputs": [],
   "metadata": {
    "ExecuteTime": {
     "end_time": "2019-07-04T08:04:06.694102Z",
     "start_time": "2019-07-04T08:04:06.681908Z"
    }
   }
  },
  {
   "cell_type": "markdown",
   "source": [
    "**d)** Skriv en funksjon `longestEven(list)` som finner lengste sammenhengende rekke med partall i en liste. Metoden skal returnere indeksen til det første partallet i rekken og antallet partall i rekken.\n",
    "\n",
    "***Skriv funksjonen din i kodeblokken under***"
   ],
   "metadata": {
    "deletable": false,
    "editable": false,
    "run_control": {
     "frozen": true
    }
   }
  },
  {
   "cell_type": "code",
   "execution_count": null,
   "source": [],
   "outputs": [],
   "metadata": {}
  },
  {
   "cell_type": "markdown",
   "source": [
    "**Test av alle funksjonene:**"
   ],
   "metadata": {
    "deletable": false,
    "editable": false,
    "run_control": {
     "frozen": true
    }
   }
  },
  {
   "cell_type": "code",
   "execution_count": null,
   "source": [
    "def main():\n",
    "    print(randList(10,2,7))\n",
    "    a = [1,2,3]\n",
    "    b = [4,3,1]\n",
    "    print(compareLists(a,b))\n",
    "    c = [7,2,1]\n",
    "    d = [a,b,c]\n",
    "    print(multiCompList(d))\n",
    "    liste = [4,3,3,6,2,6,8,3,4,3,3]\n",
    "    print(longestEven(liste))\n",
    " \n",
    "main()"
   ],
   "outputs": [],
   "metadata": {}
  },
  {
   "cell_type": "markdown",
   "source": [
    "**Eksempel på riktig utskrift:**\n",
    ">```python\n",
    "[5, 6, 7, 4, 7, 3, 2, 4, 3, 2] # Merk at denne vil variere!\n",
    "[1, 3]\n",
    "[1]\n",
    "(3, 4)\n",
    "```"
   ],
   "metadata": {
    "deletable": false,
    "editable": false,
    "run_control": {
     "frozen": true
    }
   }
  }
 ],
 "metadata": {
  "kernelspec": {
   "display_name": "Python 3",
   "language": "python",
   "name": "python3"
  },
  "language_info": {
   "codemirror_mode": {
    "name": "ipython",
    "version": 3
   },
   "file_extension": ".py",
   "mimetype": "text/x-python",
   "name": "python",
   "nbconvert_exporter": "python",
   "pygments_lexer": "ipython3",
   "version": "3.6.2"
  },
  "toc": {
   "base_numbering": 1,
   "nav_menu": {},
   "number_sections": false,
   "sideBar": true,
   "skip_h1_title": false,
   "title_cell": "Table of Contents",
   "title_sidebar": "Contents",
   "toc_cell": false,
   "toc_position": {},
   "toc_section_display": true,
   "toc_window_display": false
  }
 },
 "nbformat": 4,
 "nbformat_minor": 2
}