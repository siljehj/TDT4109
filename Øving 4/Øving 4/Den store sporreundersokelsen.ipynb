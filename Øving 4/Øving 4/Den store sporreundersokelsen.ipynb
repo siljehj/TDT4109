{
 "cells": [
  {
   "cell_type": "markdown",
   "metadata": {
    "deletable": false,
    "editable": false,
    "run_control": {
     "frozen": true
    }
   },
   "source": [
    "<nav class=\"navbar navbar-default\">\n",
    "  <div class=\"container-fluid\">\n",
    "    <div class=\"navbar-header\">\n",
    "      <a class=\"navbar-brand\" href=\"_Oving5.ipynb\">Øving 5</a>\n",
    "    </div>\n",
    "    <ul class=\"nav navbar-nav\">\n",
    "    <li><a href=\"Grunnleggende%20om%20funksjoner.ipynb\">Grunnleggende om funksjoner</a></li>\n",
    "    <li><a href=\"Varierte%20funksjoner.ipynb\">Varierte funksjoner</a></li>\n",
    "    <li><a href=\"Lokale%20variabler.ipynb\">Lokale variabler</a></li>\n",
    "    <li><a href=\"Globale%20variabler.ipynb\">Globale variabler</a></li>\n",
    "    <li><a href=\"Euklids%20algoritme.ipynb\">Euklids algoritme</a></li>\n",
    "    <li><a href=\"Primtall.ipynb\">Primtall</a></li>\n",
    "    <li><a href=\"Multiplikasjon.ipynb\">Multiplikasjon</a></li>\n",
    "    <li class=\"active\"><a href=\"Den%20store%20sporreundersokelsen.ipynb\">Den store spørreundersøkelsen</a></li>\n",
    "    <li><a href=\"Arbeidsdager.ipynb\">Arbeidsdager</a></li>\n",
    "    <li><a href=\"Sekantmetoden.ipynb\">Sekantmetoden</a></li>\n",
    "    <li><a href=\"Not%20quite%20Blackjack.ipynb\">Not quite Blackjack</a></li>\n",
    "        <li><a href=\"Funksjoner%20og%20Jupyter%20widgets.ipynb\">Funksjoner og Jupyter widgets</a></li>\n",
    "    </ul>\n",
    "  </div>\n",
    "</nav>\n",
    "\n",
    "## Den store spørreundersøkelsen\n",
    "\n",
    "**Læringsmål:**\n",
    "\n",
    "* Funksjoner \n",
    "* Betingelser\n",
    "* Løkker\n",
    "\n",
    "**Starting Out with Python:**\n",
    "\n",
    "* Kap. 3.1-3.2\n",
    " * 3.1: The if Statement\n",
    " * 3.2: The if-else Statement \n",
    "* Kap. 4.2\n",
    " * 4.2: The while Loop: A Condition-Controlled Loop\n",
    "* Kap. 5.4-5.6, 5.8 \n",
    " * 5.4: Local Variables\n",
    " * 5.5: Passing Arguments to Functions\n",
    " * 5.6: Global Variables and Global Constants\n",
    " * 5.8: Writing Your Own Value-Returning Functions\n",
    " \n",
    "\n",
    "**I denne oppgaven skal du skrive et større program. For denne typen oppgaver kan det være mer praktisk å laste ned python og eventuelt en IDE (Et område man programmerer i på sin egen maskin). Det er fortsatt mulig å gjøre oppgaven i Jupyter dersom du ikke ønsker å jobbe lokalt**\n",
    " \n",
    "I denne oppgaven skal du implementere et lite utdrag av en spørreundersøkelse om leksevaner til studenter. Undersøkelsen er beregnet for kvinner og menn i aldersgruppen 16-25 år.\n",
    "\n",
    "Spørreundersøkelsen implementeres ved hjelp av å skrive ut spørsmål og lese input fra brukeren i en while-løkke som kjøres så lenge brukeren ønsker å skrive inn data. Når alle spørsmålene er besvart, gjentas spørsmålene for en ny person. \n",
    "\n",
    "Hold styr på fem globale tellere (variabler) under kjøringen av while-løkken: **antall_kvinner**, **antall_menn**, **antall_fag**, **antall_ITGK**, og **antall_timer_lekser**. Hvis brukeren til enhver tid svarer hade på et spørsmål skal while-løkken avsluttes og verdiene av de fem tellerne skrives ut.\n",
    "\n",
    "I programmet ditt kan du få bruk for:"
   ]
  },
  {
   "cell_type": "code",
   "execution_count": null,
   "metadata": {},
   "outputs": [],
   "source": [
    "from sys import exit        #Du kan nå bruke funksjonen exit() i programmet ditt. Anbefales brukt i sjekk_svar-funksjonen."
   ]
  },
  {
   "cell_type": "markdown",
   "metadata": {
    "deletable": false,
    "editable": false,
    "run_control": {
     "frozen": true
    }
   },
   "source": [
    "exit() vil avslutte kjøringen av programmet.\n",
    "\n",
    "Bruk funksjoner til å lese inn svar fra brukeren (de bør være forskjellige om brukeren skriver inn et tall eller en streng), og til å skrive ut statistikk til slutt (oppgave g).\n",
    "\n",
    "Funksjoner som kan implementeres i løpet av oppgaven er:\n",
    "\n",
    "sjekk_svar(spm)\n",
    "les_streng(spm)\n",
    "les_ja_nei(spm)\n",
    "les_tall(spm)\n",
    "skriv_statistikk()\n",
    "(Der spm er svaret på de forskjellige spørsmålene som skal stilles i while-løkken)\n",
    "\n",
    "Deloppgave a til e skal altså implementeres inni while-løkken."
   ]
  },
  {
   "cell_type": "code",
   "execution_count": 1,
   "metadata": {},
   "outputs": [
    {
     "name": "stdout",
     "output_type": "stream",
     "text": [
      "\n",
      "Velkommen til spørreundersøkelsen!\n",
      "\n"
     ]
    },
    {
     "name": "stdin",
     "output_type": "stream",
     "text": [
      "Hvilket kjønn er du? (f/m)  m\n",
      "Hvor gammel er du?  16\n",
      "Tar du et fag? (ja/nei)  nei\n"
     ]
    },
    {
     "name": "stdout",
     "output_type": "stream",
     "text": [
      "\n",
      "Velkommen til spørreundersøkelsen!\n",
      "\n"
     ]
    },
    {
     "name": "stdin",
     "output_type": "stream",
     "text": [
      "Hvilket kjønn er du? (f/m)  m\n",
      "Hvor gammel er du?  19\n",
      "Tar du et fag? (ja/nei)  ja\n",
      "Tar du ITGK? (ja/nei)  ja\n",
      "Hvor mange timer bruker du normalt på lekser?  7\n"
     ]
    },
    {
     "name": "stdout",
     "output_type": "stream",
     "text": [
      "\n",
      "Velkommen til spørreundersøkelsen!\n",
      "\n"
     ]
    },
    {
     "name": "stdin",
     "output_type": "stream",
     "text": [
      "Hvilket kjønn er du? (f/m)  hade\n"
     ]
    },
    {
     "name": "stdout",
     "output_type": "stream",
     "text": [
      "Da var spørreundersøkelsen over! Her er resultatene:\n",
      "\n",
      "Antall kvinner: 0 \n",
      "Antall menn: 2 \n",
      "Antall som tar fag: 1 \n",
      "Antall som tar ITGK: 1 \n",
      "Antall timer i snitt brukt på lekser: 3.5\n"
     ]
    },
    {
     "ename": "SystemExit",
     "evalue": "",
     "output_type": "error",
     "traceback": [
      "An exception has occurred, use %tb to see the full traceback.\n",
      "\u001b[0;31mSystemExit\u001b[0m\n"
     ]
    },
    {
     "name": "stderr",
     "output_type": "stream",
     "text": [
      "/opt/conda/lib/python3.9/site-packages/IPython/core/interactiveshell.py:3452: UserWarning: To exit: use 'exit', 'quit', or Ctrl-D.\n",
      "  warn(\"To exit: use 'exit', 'quit', or Ctrl-D.\", stacklevel=1)\n"
     ]
    }
   ],
   "source": [
    "from sys import exit\n",
    "\n",
    "#globale variabler\n",
    "antall_kvinner = 0\n",
    "antall_menn = 0\n",
    "antall_fag = 0\n",
    "antall_ITGK = 0\n",
    "antall_timer_lekser = 0\n",
    "\n",
    "#avslutter løkka og skriver ut statistikk\n",
    "def sjekk_svar(svar):\n",
    "    if svar == \"hade\":\n",
    "        print(\"Da var spørreundersøkelsen over! Her er resultatene:\\n\")\n",
    "        #statistikk\n",
    "        print(\"Antall kvinner:\", antall_kvinner, \"\\nAntall menn:\", antall_menn, \n",
    "        \"\\nAntall som tar fag:\", antall_fag, \"\\nAntall som tar ITGK:\", antall_ITGK, \n",
    "        \"\\nAntall timer i snitt brukt på lekser:\", round(antall_timer_lekser, 2))\n",
    "        exit()\n",
    "\n",
    "def les_ja_nei(svar):\n",
    "    global fag\n",
    "    while not (fag == \"ja\" or fag == \"nei\"):\n",
    "        fag = input(\"Tar du et fag? (ja/nei) \")\n",
    "    return fag\n",
    "\n",
    "#gir variabelen en verdi slik at koden kan kjøre\n",
    "svar = \"ja\"\n",
    "\n",
    "while svar != \"hade\":\n",
    "    \n",
    "    print(\"\\nVelkommen til spørreundersøkelsen!\\n\")\n",
    "\n",
    "    #kjønn\n",
    "    kjønn = input(\"Hvilket kjønn er du? (f/m) \")\n",
    "    sjekk_svar(kjønn)\n",
    "    \n",
    "    if kjønn == \"f\":\n",
    "        antall_kvinner += 1\n",
    "    elif kjønn == \"m\":\n",
    "        antall_menn += 1\n",
    "\n",
    "    #alder\n",
    "    alder = input(\"Hvor gammel er du? \")\n",
    "    sjekk_svar(alder)\n",
    "\n",
    "    #sjekke om de får være med\n",
    "    if int(alder) < 16 or int(alder) > 25:\n",
    "        print(\"Du kan ikke ta spørreundersøkelsen.\")\n",
    "\n",
    "    else:\n",
    "        fag = input(\"Tar du et fag? (ja/nei) \")\n",
    "        sjekk_svar(fag)\n",
    "        les_ja_nei(fag)\n",
    "        \n",
    "        if fag == \"ja\":\n",
    "            antall_fag += 1\n",
    "            \n",
    "            if int(alder) < 22:\n",
    "                itgk = input(\"Tar du ITGK? (ja/nei) \")\n",
    "            else:\n",
    "                itgk = input(\"Tar du virkelig ITGK? (ja/nei) \")\n",
    "            \n",
    "            sjekk_svar(itgk)\n",
    "            if itgk == \"ja\":\n",
    "                antall_ITGK += 1\n",
    "            \n",
    "            timer_lekser = input(\"Hvor mange timer bruker du normalt på lekser? \")\n",
    "            sjekk_svar(timer_lekser)\n",
    "\n",
    "            antall_timer_lekser = int(timer_lekser)/(antall_kvinner + antall_menn) "
   ]
  },
  {
   "cell_type": "markdown",
   "metadata": {
    "deletable": false,
    "editable": false,
    "run_control": {
     "frozen": true
    }
   },
   "source": [
    "**a)** Be brukeren skrive inn kjønn og alder. Med for eksempel ***f*** for kvinne og ***m*** for mann, lagre disse i variablene **kjonn** og **alder**.\n",
    "\n",
    "\n",
    "\n",
    "**b)** Sjekk om brukeren er innenfor tiltenkt aldersgruppe. Dersom brukeren er utenfor aldersgruppen, skriv en melding om at vedkommende ikke kan ta spørreundersøkelsen, og hopp tilbake til første spørsmål (kjønn).\n",
    "\n",
    "\n",
    "\n",
    "**c)** Dersom brukeren er innenfor tiltenkt aldersgruppe, spør om brukeren tar et **fag**, med svaralternativene ja og nei. Deretter lagres svaret som en variabel fag. Ta utgangspunkt i denne variabelen når du avgjør om brukeren trenger å svare på de neste to spørsmålene eller ikke. Om noe annet svares, skal spørsmålet gjentas til et gyldig svaralternativ er gitt. \n",
    "\n",
    "\n",
    "\n",
    "**d)** Du skal nå spørre om brukeren tar ITGK og lagre svaret som en variabel **medlem_ITGK**, men spørsmålsteksten skal variere ut ifra alderen på brukeren\n",
    "\n",
    "* Dersom brukeren er under 22 år skal spørsmålsteksten være: Tar du ITGK?\n",
    "* Ellers skal spørsmålsteksten være: Tar virkelig du ITGK?\n",
    "\n",
    "\n",
    "**e)** Spør brukeren hvor mange timer han/hun bruker i snitt daglig på lekser og lagre svaret i variabelen **timer_lekser**\n",
    "\n",
    "\n",
    "\n",
    "**f)** Endre programmet ditt slik at de globale tellerne nevnt tidligere i oppgaven blir inkrementert i deloppgavene a til e.\n",
    "\n",
    "\n",
    "\n",
    "**g)** Kjør programmet ditt, utfør noen undersøkelser, og avslutt ved å skrive hade. Sjekk at statistikken (verdiene av de globale tellerne) som skrives ut på slutten er korrekt.\n",
    "\n",
    "**Eksempel på kjøring:**\n",
    "\n",
    "```\n",
    "Velkommen til spørreundersøkelsen!\n",
    " \n",
    " Hvilket kjønn er du? [f/m]: f\n",
    " Hvor gammel er du?: 21\n",
    " Tar du et eller flere fag? [ja/nei ]: bleh\n",
    " Tar du et eller flere fag? [ja/nei ]: ja\n",
    " Tar du ITGK? [ja/nei]: ja\n",
    " Hvor mange timer bruker du daglig (i snitt) på lekser?: 2\n",
    " \n",
    "Velkommen til spørreundersøkelsen!\n",
    " \n",
    " Hvilket kjønn er du? [f/m]: m\n",
    " Hvor gammel er du?: 28\n",
    "Du kan dessverre ikke ta denne undersøkelsen\n",
    " \n",
    "Velkommen til spørreundersøkelsen!\n",
    " \n",
    " Hvilket kjønn er du? [f/m]: m\n",
    " Hvor gammel er du?: 25\n",
    " Tar du et eller flere fag? [ja/nei ]: ja\n",
    " Tar du virkelig ITGK?: nei\n",
    " Hvor mange timer bruker du daglig (i snitt) på lekser?: 3\n",
    " \n",
    "Velkommen til spørreundersøkelsen!\n",
    " \n",
    " Hvilket kjønn er du? [f/m]: f\n",
    " Hvor gammel er du?: 18\n",
    " Tar du et eller flere fag? [ja/nei ]: nei\n",
    " \n",
    "Velkommen til spørreundersøkelsen!\n",
    " \n",
    " Hvilket kjønn er du? [f/m]: m\n",
    " Hvor gammel er du?: 24\n",
    " Tar du et eller flere fag? [ja/nei ]: hade\n",
    " \n",
    "Resultat av undersøkelse!\n",
    " Antall kvinner: 2\n",
    " Antall menn: 2\n",
    " Antall personer som tar fag: 2\n",
    " Antall personer som tar ITGK: 1\n",
    " Antall timer i snitt brukt på lekser : 2.5\n",
    " ```\n",
    " \n",
    "**h)** Vil det være mulig å hente ut svarene fra spørreundersøkelsen etter at vi har avsluttet programmet? Hvor er de i så fall lagret? Eventuelt hvorfor ikke?"
   ]
  },
  {
   "cell_type": "markdown",
   "metadata": {},
   "source": [
    "Siden jeg bruker exit-kommandoen, avsluttes programmet og jeg får ikke hentet ut flere svar."
   ]
  }
 ],
 "metadata": {
  "kernelspec": {
   "display_name": "Python 3 (ipykernel)",
   "language": "python",
   "name": "python3"
  },
  "language_info": {
   "codemirror_mode": {
    "name": "ipython",
    "version": 3
   },
   "file_extension": ".py",
   "mimetype": "text/x-python",
   "name": "python",
   "nbconvert_exporter": "python",
   "pygments_lexer": "ipython3",
   "version": "3.9.7"
  }
 },
 "nbformat": 4,
 "nbformat_minor": 4
}
