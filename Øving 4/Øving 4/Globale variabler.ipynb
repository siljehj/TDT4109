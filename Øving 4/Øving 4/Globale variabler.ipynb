{
 "cells": [
  {
   "cell_type": "markdown",
   "metadata": {
    "Collapsed": "false",
    "deletable": false,
    "editable": false,
    "run_control": {
     "frozen": true
    }
   },
   "source": [
    "<nav class=\"navbar navbar-default\">\n",
    "  <div class=\"container-fluid\">\n",
    "    <div class=\"navbar-header\">\n",
    "      <a class=\"navbar-brand\" href=\"_Oving4.ipynb\">Øving 4</a>\n",
    "    </div>\n",
    "    <ul class=\"nav navbar-nav\">\n",
    "    <li><a href=\"Grunnleggende%20om%20funksjoner.ipynb\">Grunnleggende om funksjoner</a></li>\n",
    "    <li><a href=\"Varierte%20funksjoner.ipynb\">Varierte funksjoner</a></li>\n",
    "    <li><a href=\"Lokale%20variabler.ipynb\">Lokale variabler</a></li>\n",
    "    <li class=\"active\"><a href=\"Globale%20variabler.ipynb\">Globale variabler</a></li>\n",
    "    <li><a href=\"Euklids%20algoritme.ipynb\">Euklids algoritme</a></li>\n",
    "    <li><a href=\"Primtall.ipynb\">Primtall</a></li>\n",
    "    <li><a href=\"Multiplikasjon.ipynb\">Multiplikasjon</a></li>\n",
    "        <li><a href=\"Den%20store%20sporreundersokelsen.ipynb\">Den store spørreundersøkelsen</a></li>\n",
    "    <li><a href=\"Arbeidsdager.ipynb\">Arbeidsdager</a></li>\n",
    "    <li><a href=\"Sekantmetoden.ipynb\">Sekantmetoden</a></li>\n",
    "    <li><a href=\"Not%20quite%20Blackjack.ipynb\">Not quite Blackjack</a></li>\n",
    "        <li><a href=\"Funksjoner%20og%20Jupyter%20widgets.ipynb\">Funksjoner og Jupyter widgets</a></li>\n",
    "    </ul>\n",
    "  </div>\n",
    "</nav>\n",
    "\n",
    "# Globale variabler\n",
    "\n",
    "**Læringsmål:**\n",
    "- Funksjoner\n",
    "\n",
    "**Starting Out with Python:**\n",
    "- Kap. 5.6"
   ]
  },
  {
   "cell_type": "markdown",
   "metadata": {
    "Collapsed": "false",
    "deletable": false,
    "editable": false,
    "run_control": {
     "frozen": true
    }
   },
   "source": [
    "## Generelt om globale variabler\n",
    "\n",
    "Det kan være lurt å lese gjennom dette før du går videre"
   ]
  },
  {
   "cell_type": "markdown",
   "metadata": {
    "Collapsed": "false",
    "deletable": false,
    "editable": false,
    "run_control": {
     "frozen": true
    }
   },
   "source": [
    "En global variabel er en variabel som kan aksesseres av alle funksjonene i et program, ved at den opprettes utenfor en funksjon. Globale variabler kan for eksempel brukes for å lagre data som man trenger å huske gjennom hele programutførelsen. Selv om bruk av globale variabler kan være praktisk, er det ofte bedre å bruke lokale variabler i for eksempel en main-funksjon, og så sende dette videre til andre funksjoner ved behov. Ulempen ved å ha funksjoner som bruker globale variabler, er tapet av forutsigbarhet. Funksjonene vil ikke lengre oppføre seg kun som en matematisk funksjon som alltid spytter ut samme svar gitt samme input, men vil kunne oppføre seg forskjellig basert på tilstanden til de globale variablene som funksjonen bruker. Dette betyr at i praksis brukes globale variabler som oftest for å lagre konstanter, altså variabler som bare leses og ikke endres. Slike variabler bruker ofte kun store bokstaver i navnet."
   ]
  },
  {
   "cell_type": "code",
   "execution_count": null,
   "metadata": {
    "Collapsed": "false"
   },
   "outputs": [],
   "source": [
    "# EKSEMPEL PÅ GLOBALE VARIABLER BRUKT FOR Å LAGRE KONSTANTER\n",
    "# Det er verdt å merke seg at denne konstanten også\n",
    "# er definert i Pythons innebygde math-bibliotek\n",
    "PI = 3.1415926\n",
    "  \n",
    "# Funksjon som finner omkretsen til en sirkel med gitt radius\n",
    "def omkrets(radius):\n",
    "    return 2 * PI * radius\n",
    "  \n",
    "# Funksjon som finner arealet til en sirkel med gitt radius\n",
    "def areal(radius):\n",
    "    return PI * radius ** 2"
   ]
  },
  {
   "cell_type": "markdown",
   "metadata": {
    "Collapsed": "false",
    "deletable": false,
    "editable": false,
    "run_control": {
     "frozen": true
    }
   },
   "source": [
    "Som sagt er det også mulig å endre på globale variabler. For å gjøre dette, må man eksplisitt informere om at man skal bruke en global variabel med å bruke nøkkelordet global. Dette er illustrert i eksempelet under, hvor det er verdien som settes i fra kallet til funksjon a som blir stående, selv om b også endrer en variabel med samme navn og kjører etter at funksjon a kjører. Det som skjer her, er at i b lagres tallet i en lokal variabel med samme navn."
   ]
  },
  {
   "cell_type": "code",
   "execution_count": null,
   "metadata": {
    "Collapsed": "false"
   },
   "outputs": [],
   "source": [
    "# HVORDAN ENDRE GLOBALE VARIABLER\n",
    "stored_number = 30\n",
    "  \n",
    "def a():\n",
    "    global stored_number\n",
    "    stored_number = 20\n",
    "\n",
    "def b():\n",
    "    stored_number = 10\n",
    "\n",
    "a()\n",
    "b()\n",
    "  \n",
    "print(stored_number) # => 20"
   ]
  },
  {
   "cell_type": "markdown",
   "metadata": {
    "Collapsed": "false",
    "deletable": false,
    "editable": false,
    "heading_collapsed": true,
    "run_control": {
     "frozen": true
    }
   },
   "source": [
    "## Funksjoner med valgfrie argumenter\n",
    "\n",
    "Det kan være lurt å lese gjennom dette før du går videre"
   ]
  },
  {
   "cell_type": "markdown",
   "metadata": {
    "Collapsed": "false",
    "deletable": false,
    "editable": false,
    "hidden": true,
    "run_control": {
     "frozen": true
    }
   },
   "source": [
    "I Python er det mulig for et funksjonsargument å ha en default-verdi. Hvis en funksjon kalles uten en verdi for dette funksjonsargumentet, vil argumentet få denne default-verdien - koden kan altså fortsatt kjøre, selv om man gir funksjonen færre argumenter enn den egentlig tar inn. Du kan definere at en funksjon har default-verdier som vist i koden under."
   ]
  },
  {
   "cell_type": "code",
   "execution_count": null,
   "metadata": {
    "Collapsed": "false",
    "ExecuteTime": {
     "end_time": "2019-07-03T07:48:09.688244Z",
     "start_time": "2019-07-03T07:48:09.677730Z"
    },
    "hidden": true
   },
   "outputs": [],
   "source": [
    "# Printer navnet til brukeren med store bokstaver i starten av hvert ord\n",
    "def pretty_print_name(name, message = 'Hei'):\n",
    "    print(message, name.title())\n",
    "    \n",
    "pretty_print_name('ola nOrDMaNN')\n",
    "pretty_print_name('OLA Nordmann', 'Hello')\n",
    "pretty_print_name(\"Silje\", \"Halla\")"
   ]
  },
  {
   "cell_type": "markdown",
   "metadata": {
    "Collapsed": "false",
    "deletable": false,
    "editable": false,
    "run_control": {
     "frozen": true
    }
   },
   "source": [
    "## a) Lagring av konstanter"
   ]
  },
  {
   "cell_type": "markdown",
   "metadata": {
    "Collapsed": "false",
    "deletable": false,
    "editable": false,
    "run_control": {
     "frozen": true
    }
   },
   "source": [
    "Gravitasjonsakselerasjonen g på jordoverflaten er omtrent 9.81 m/s². For våre formål kan denne antas å være konstant. Tiden som trengs for at et objekt i fritt fall skal ramle d meter er gitt ved formelen\n",
    "\\begin{equation*}\n",
    "t = \\sqrt{\\frac{2d}{g}}\n",
    "\\end{equation*}\n",
    "hvor $g$ er gravitasjonsakselerasjonen som gitt tidligere.\n",
    "\n",
    "I denne deloppgaven skal du lagre gravitasjonskonstanten i en global variabel med navnet `GRAVITY` på toppen av programmet ditt. Deretter skal du lage en funksjon `get_fall_time` som tar inn et gitt antall meter, og bruker formelen gitt over til å returnere hvor lang tid det tar et objekt å ramle det gitte antallet meter. La så programmet ditt ta inn en fall-lengde i meter fra brukeren, og bruk funksjonen du har laget til å regne ut hvor lang tid det tar å ramle den gitte distansen. Print ut resultatet.\n",
    "\n",
    "***Skriv koden i kodeblokken under***"
   ]
  },
  {
   "cell_type": "code",
   "execution_count": 10,
   "metadata": {
    "Collapsed": "false"
   },
   "outputs": [
    {
     "name": "stdin",
     "output_type": "stream",
     "text": [
      "m:  20\n"
     ]
    },
    {
     "name": "stdout",
     "output_type": "stream",
     "text": [
      "Det tar 2.019275109384609 sekunder for et objekt i fritt fall å ramle 20 meter\n"
     ]
    }
   ],
   "source": [
    "GRAVITY = 9.81\n",
    "\n",
    "def get_fall_time(m):\n",
    "    d = m\n",
    "    t = ((2*d)/GRAVITY)**(1/2)\n",
    "    return t\n",
    "\n",
    "#def set_gravity(gravity):\n",
    "  #global GRAVITY\n",
    "  #GRAVITY = gravity\n",
    "\n",
    "#set_gravity(1.62)\n",
    " \n",
    "m = int(input(\"m: \"))\n",
    "tid = get_fall_time(m)\n",
    "\n",
    "print(\"Det tar\", tid, \"sekunder for et objekt i fritt fall å ramle\", m, \"meter\")"
   ]
  },
  {
   "cell_type": "markdown",
   "metadata": {
    "Collapsed": "false",
    "deletable": false,
    "editable": false,
    "run_control": {
     "frozen": true
    }
   },
   "source": [
    "Eksempel på kjøring:\n",
    "```python\n",
    "Antallet meter objektet skal ramle: 20\n",
    "Det tar 2.019275109384609 sekunder å ramle 20 meter\n",
    "```"
   ]
  },
  {
   "cell_type": "markdown",
   "metadata": {
    "Collapsed": "false",
    "deletable": false,
    "editable": false,
    "run_control": {
     "frozen": true
    }
   },
   "source": [
    "## b) Oppdatere en global variabel\n",
    "\n",
    "I denne oppgaven ønsker vi å legge til rette for flere verdier av gravitasjonsakselrasjonen, ettersom denne ikke er helt konstant over hele jordoverflaten, i tillegg til at den vil være forskjellig på f.eks. månen. En mulig måte å løse dette på kunne vært å introdusere en ny funksjon som lar brukeren overskrive verdien til den globale konstanten, som vist i følgende eksempel.\n",
    "\n",
    "```python\n",
    "def set_gravity(gravity):\n",
    "  global GRAVITY\n",
    "  GRAVITY = gravity\n",
    " \n",
    "set_gravity(9.67)\n",
    " \n",
    "print(get_fall_time(20)) # => 1.4381419703158196\n",
    "```\n",
    "Synes du dette er en god løsning på problemet? ***Argumenter for eller i mot denne løsningen***  \n",
    "***Dobbeltklikk på teksten under og skriv i feltet som dukker opp***"
   ]
  },
  {
   "cell_type": "markdown",
   "metadata": {
    "Collapsed": "false"
   },
   "source": [
    "Ja, det synes jeg altså"
   ]
  },
  {
   "cell_type": "markdown",
   "metadata": {
    "Collapsed": "false",
    "deletable": false,
    "editable": false,
    "run_control": {
     "frozen": true
    }
   },
   "source": [
    "I tillegg skal du skrive om om funksjonen din fra oppgave a slik at den tar inn et ekstra parameter som lar deg sette hvilken verdi for gravitasjonsakselerasjonen som skal brukes. Parameteret skal ha konstanten GRAVITY som default-verdi. Under demonstreres hvordan denne nye funksjonen skal kunne brukes:\n",
    "\n",
    ">```python\n",
    "print(get_fall_time(20)) # => 2.019275109384609\n",
    "print(get_fall_time(20, 1.62)) # => 4.969039949999533\n",
    "```\n",
    "\n",
    "***Kopier inn koden din fra oppgave a) nedenfor og gjør den om etter beskrivelsen over***"
   ]
  },
  {
   "cell_type": "code",
   "execution_count": 32,
   "metadata": {
    "Collapsed": "false"
   },
   "outputs": [
    {
     "name": "stdin",
     "output_type": "stream",
     "text": [
      "m: 20\n",
      "g:  1.62\n"
     ]
    },
    {
     "name": "stdout",
     "output_type": "stream",
     "text": [
      "Det tar 4.97 sekunder for et objekt i fritt fall å ramle 20 meter med gravitasjonen 1.62 m/s^2\n"
     ]
    }
   ],
   "source": [
    "GRAVITY = 9.81\n",
    "\n",
    "def get_fall_time(m, g = GRAVITY):\n",
    "    d = m\n",
    "    t = ((2*d)/g)**(1/2)\n",
    "    return t\n",
    "\n",
    "#print(get_fall_time(20))\n",
    "#print(get_fall_time(20, 1.62))\n",
    "\n",
    "m = int(input(\"m:\"))\n",
    "g = input(\"g: \")\n",
    "\n",
    "try:\n",
    "    g = float(g)\n",
    "except:\n",
    "    print(\"Gravitasjonsverdi ikke spesifisert. Vi bruker standard verdi:\", GRAVITY)\n",
    "    g = GRAVITY\n",
    "\n",
    "tid = round(get_fall_time(m, g), 2)\n",
    "print(\"Det tar\", tid, \"sekunder for et objekt i fritt fall å ramle\", m, \"meter med gravitasjonen\", g, \"m/s^2\")\n",
    "\n",
    "#verdier = input(\"Skriv inn meter og gravitasjon med mellomrom i mellom dem: \")\n",
    "#liste_verdier = [float(x) for x in verdier.split(' ')]\n",
    "#print(liste_verdier)\n",
    "#m = liste_verdier[0]\n",
    "#if len(liste_verdier) == 2:\n",
    "    #g = liste_verdier[1]\n",
    "#tid = round(get_fall_time(m, g), 2)\n",
    "\n",
    "#print(\"Det tar\", tid, \"sekunder for et objekt i fritt fall å ramle\", m, \"meter med gravitasjonen\", g, \"m/s^2\")"
   ]
  },
  {
   "cell_type": "markdown",
   "metadata": {
    "Collapsed": "false",
    "deletable": false,
    "editable": false,
    "run_control": {
     "frozen": true
    },
    "tags": []
   },
   "source": [
    "## Du kan teste ut funksjonen din med denne koden som burde kjøre likt som demonstrasjonen over. (husk å kjøre funksjonen i kodeblokken over før du kjører kodeblokken under slik at funksjonen er oppdatert)"
   ]
  },
  {
   "cell_type": "code",
   "execution_count": 22,
   "metadata": {
    "Collapsed": "false"
   },
   "outputs": [
    {
     "name": "stdout",
     "output_type": "stream",
     "text": [
      "2.019275109384609\n",
      "4.969039949999533\n"
     ]
    }
   ],
   "source": [
    "print(get_fall_time(20))\n",
    "print(get_fall_time(20, 1.62))"
   ]
  },
  {
   "cell_type": "code",
   "execution_count": null,
   "metadata": {},
   "outputs": [],
   "source": []
  }
 ],
 "metadata": {
  "kernelspec": {
   "display_name": "Python 3 (ipykernel)",
   "language": "python",
   "name": "python3"
  },
  "language_info": {
   "codemirror_mode": {
    "name": "ipython",
    "version": 3
   },
   "file_extension": ".py",
   "mimetype": "text/x-python",
   "name": "python",
   "nbconvert_exporter": "python",
   "pygments_lexer": "ipython3",
   "version": "3.9.7"
  },
  "toc": {
   "base_numbering": 1,
   "nav_menu": {},
   "number_sections": false,
   "sideBar": true,
   "skip_h1_title": false,
   "title_cell": "Table of Contents",
   "title_sidebar": "Contents",
   "toc_cell": false,
   "toc_position": {},
   "toc_section_display": true,
   "toc_window_display": true
  }
 },
 "nbformat": 4,
 "nbformat_minor": 4
}
