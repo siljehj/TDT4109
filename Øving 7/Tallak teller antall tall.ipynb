{
 "cells": [
  {
   "cell_type": "markdown",
   "metadata": {
    "deletable": false,
    "editable": false,
    "run_control": {
     "frozen": true
    }
   },
   "source": [
    "<nav class=\"navbar navbar-default\">\n",
    "  <div class=\"container-fluid\">\n",
    "    <div class=\"navbar-header\">\n",
    "      <a class=\"navbar-brand\" href=\"_Oving7.ipynb\">Øving 7</a>\n",
    "    </div>\n",
    "    <ul class=\"nav navbar-nav\">\n",
    "    <li ><a href=\"Generelt%20om%20dictionary.ipynb\">Generelt om dictionary</a></li>\n",
    "    <li ><a href=\"Innebygde%20funksjoner%20i%20dictionaries.ipynb\">Innebygde funksjoner</a></li>\n",
    "    <li ><a href=\"Generelt%20om%20sets.ipynb\">Generelt om sets</a></li>\n",
    "    <li ><a href=\"Generelt%20om%20filbehandling.ipynb\">Generelt om filbehandling</a></li>\n",
    "    <li ><a href=\"Osteviruset.ipynb\">Osteviruset</a></li>\n",
    "    <li ><a href=\"Bursdagsdatabasen.ipynb\">Bursdagsdatabasen</a></li>\n",
    "    <li class=\"active\"><a href=\"Tallak%20teller%20antall%20tall.ipynb\">Tallak teller antall tall</a></li>\n",
    "    <li ><a href=\"Opptaksgrenser.ipynb\">Opptaksgrenser</a></li>\n",
    "        <li ><a href=\"Soke%20i%20tekst.ipynb\">Søke i tekst</a></li>\n",
    "    <li ><a href=\"Tre%20paa%20rad.ipynb\">Tre på rad</a></li>\n",
    "    </ul>\n",
    "  </div>\n",
    "</nav>\n",
    "\n",
    "# Tallak teller antall tall\n",
    "\n",
    "**Læringsmål:**\n",
    "- Dictionary\n",
    "- Lese fra fil\n",
    "\n",
    "**Starting Out with Python:**\n",
    "- Kap. 6: Files and Exceptions\n",
    "- Kap. 9: Dictionaries and Sets"
   ]
  },
  {
   "cell_type": "markdown",
   "metadata": {
    "deletable": false,
    "editable": false,
    "run_control": {
     "frozen": true
    }
   },
   "source": [
    "I denne oppgaven skal du hjelpe tallentusiasten Tallak med å lese inn data fra filen numbers.txt. Denne filen inneholder en liste med tall, noe som er Tallaks store lidenskap. Filen kan du se her: [numbers.txt](numbers.txt)"
   ]
  },
  {
   "cell_type": "markdown",
   "metadata": {
    "deletable": false,
    "editable": false,
    "run_control": {
     "frozen": true
    }
   },
   "source": [
    "## a)\n",
    "Tallak ønsker først og fremst å få en oversikt over størrelsen på filen:\n",
    "\n",
    "Lag funksjonen `number_of_lines(filename)` som returnerer totalt antall linjer i filen med navn `filename`. Test funksjonen med `numbers.txt`. Du bør få 36 som svar.\n",
    "\n",
    "***Skriv koden i kodeblokken under***"
   ]
  },
  {
   "cell_type": "code",
   "execution_count": 1,
   "metadata": {},
   "outputs": [
    {
     "data": {
      "text/plain": [
       "36"
      ]
     },
     "execution_count": 1,
     "metadata": {},
     "output_type": "execute_result"
    }
   ],
   "source": [
    "def number_of_lines(filename):\n",
    "    f = open(filename, \"r\")\n",
    "    lines = len(f.readlines())\n",
    "    f.close()\n",
    "    return lines\n",
    "\n",
    "number_of_lines(\"numbers.txt\")"
   ]
  },
  {
   "cell_type": "markdown",
   "metadata": {
    "deletable": false,
    "editable": false,
    "run_control": {
     "frozen": true
    }
   },
   "source": [
    "## b)"
   ]
  },
  {
   "cell_type": "markdown",
   "metadata": {
    "deletable": false,
    "editable": false,
    "run_control": {
     "frozen": true
    }
   },
   "source": [
    "Tallak ønsker deretter en liste som inneholder antall forekomster av hvert enkelt tall i listen:\n",
    "    \n",
    "Lag funksjonen `number_frequency(filename)` som returnerer en dictionary der hver nøkkel er et tall, og verdien til en nøkkel er antall forekomster av det tallet i filen med navn `filename`. Test funksjonen med *numbers.txt*\n",
    "\n",
    "***Skriv koden i kodeblokken under***"
   ]
  },
  {
   "cell_type": "code",
   "execution_count": 2,
   "metadata": {},
   "outputs": [
    {
     "data": {
      "text/plain": [
       "{7: 4, 4: 7, 9: 4, 1: 3, 3: 5, 5: 7, 2: 4, 6: 1, 8: 1}"
      ]
     },
     "execution_count": 2,
     "metadata": {},
     "output_type": "execute_result"
    }
   ],
   "source": [
    "def number_frequency(filename):\n",
    "    myDict = {}\n",
    "    f = open(filename, \"r\")\n",
    "    content = f.read()\n",
    "    for num in content:\n",
    "        try:\n",
    "            number = int(num)\n",
    "            myDict[number] = content.count(num)\n",
    "        except:\n",
    "            pass\n",
    "    f.close()\n",
    "    return myDict\n",
    "\n",
    "number_frequency(\"numbers.txt\")"
   ]
  },
  {
   "cell_type": "markdown",
   "metadata": {
    "deletable": false,
    "editable": false,
    "run_control": {
     "frozen": true
    }
   },
   "source": [
    "*Riktig utskrift:* `{7: 4, 4: 7, 9: 4, 1: 3, 3: 5, 5: 7, 2: 4, 6: 1, 8: 1}`"
   ]
  },
  {
   "cell_type": "markdown",
   "metadata": {
    "deletable": false,
    "editable": false,
    "run_control": {
     "frozen": true
    }
   },
   "source": [
    "## c)"
   ]
  },
  {
   "cell_type": "markdown",
   "metadata": {
    "deletable": false,
    "editable": false,
    "run_control": {
     "frozen": true
    }
   },
   "source": [
    "Tallak er derimot ikke helt fornøyd med utskriften enda:\n",
    "\n",
    "Kall funksjonen `number_frequency` på *numbers.txt*. For hvert tall i resultatet skal du skrive ut en linje med tallet sammen med antall forekomster, separart med et kolon.\n",
    "\n",
    "**Eksempel på output fra kjøring:**\n",
    "```\n",
    "7: 4\n",
    "4: 7\n",
    "9: 4\n",
    "1: 3\n",
    "3: 5\n",
    "5: 7\n",
    "2: 4\n",
    "6: 1\n",
    "8: 1\n",
    "```\n",
    "\n",
    "PS: output trenger ikke å være sortert på noen måte.\n",
    "\n",
    "***Skriv koden din i kodeblokken under***"
   ]
  },
  {
   "cell_type": "code",
   "execution_count": 3,
   "metadata": {},
   "outputs": [
    {
     "name": "stdout",
     "output_type": "stream",
     "text": [
      "7: 4\n",
      "4: 7\n",
      "9: 4\n",
      "1: 3\n",
      "3: 5\n",
      "5: 7\n",
      "2: 4\n",
      "6: 1\n",
      "8: 1\n"
     ]
    }
   ],
   "source": [
    "for key, value in number_frequency(\"numbers.txt\").items():\n",
    "    print(f\"{key}: {value}\")"
   ]
  },
  {
   "cell_type": "code",
   "execution_count": null,
   "metadata": {},
   "outputs": [],
   "source": []
  }
 ],
 "metadata": {
  "kernelspec": {
   "display_name": "Python 3 (ipykernel)",
   "language": "python",
   "name": "python3"
  },
  "language_info": {
   "codemirror_mode": {
    "name": "ipython",
    "version": 3
   },
   "file_extension": ".py",
   "mimetype": "text/x-python",
   "name": "python",
   "nbconvert_exporter": "python",
   "pygments_lexer": "ipython3",
   "version": "3.9.7"
  },
  "toc": {
   "base_numbering": 1,
   "nav_menu": {},
   "number_sections": false,
   "sideBar": true,
   "skip_h1_title": false,
   "title_cell": "Table of Contents",
   "title_sidebar": "Contents",
   "toc_cell": false,
   "toc_position": {},
   "toc_section_display": true,
   "toc_window_display": false
  }
 },
 "nbformat": 4,
 "nbformat_minor": 4
}
