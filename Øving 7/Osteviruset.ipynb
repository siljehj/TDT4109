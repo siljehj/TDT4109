{
 "cells": [
  {
   "cell_type": "markdown",
   "metadata": {
    "deletable": false,
    "editable": false,
    "run_control": {
     "frozen": true
    }
   },
   "source": [
    "<nav class=\"navbar navbar-default\">\n",
    "  <div class=\"container-fluid\">\n",
    "    <div class=\"navbar-header\">\n",
    "      <a class=\"navbar-brand\" href=\"_Oving7.ipynb\">Øving 7</a>\n",
    "    </div>\n",
    "    <ul class=\"nav navbar-nav\">\n",
    "    <li ><a href=\"Generelt%20om%20dictionary.ipynb\">Generelt om dictionary</a></li>\n",
    "    <li ><a href=\"Innebygde%20funksjoner%20i%20dictionaries.ipynb\">Innebygde funksjoner</a></li>\n",
    "    <li ><a href=\"Generelt%20om%20sets.ipynb\">Generelt om sets</a></li>\n",
    "    <li ><a href=\"Generelt%20om%20filbehandling.ipynb\">Generelt om filbehandling</a></li>\n",
    "    <li class=\"active\"><a href=\"Osteviruset.ipynb\">Osteviruset</a></li>\n",
    "    <li ><a href=\"Bursdagsdatabasen.ipynb\">Bursdagsdatabasen</a></li>\n",
    "    <li ><a href=\"Tallak%20teller%20antall%20tall.ipynb\">Tallak teller antall tall</a></li>\n",
    "    <li ><a href=\"Opptaksgrenser.ipynb\">Opptaksgrenser</a></li>\n",
    "        <li ><a href=\"Soke%20i%20tekst.ipynb\">Søke i tekst</a></li>\n",
    "    <li ><a href=\"Tre%20paa%20rad.ipynb\">Tre på rad</a></li>\n",
    "    </ul>\n",
    "  </div>\n",
    "</nav>\n",
    "\n",
    "\n",
    "# Osteviruset\n",
    "\n",
    "**Læringsmål:**\n",
    "- Dictionary\n",
    "\n",
    "**Starting Out with Python:**\n",
    "- Kap. 9.1 Dictionaries\n",
    "\n",
    "Ostelageret til Tine benytter et smart system som mapper oster med lagerhylleplass. Ostene er indeksert på navn, og hver type ost er mappet til en tuple med hylleplasser hvor nøyaktig én ost av denne typen befinner seg. Kodesnutt viser en liten bit av Tine sin ostedatabase i form av en dictionary. \n",
    "\n",
    "Indeksering av dictionaries er ganske likt indeksering av lister. Den største forskjellen er at indekser (nøkler) kan i tillegg til tall, også være andre datatyper. I denne oppgaven er nøklene strenger. \n",
    "\n",
    "Merk: I denne oppgaven trenger du ikke lage noen ekstra funksjoner. Bruk gjerne innebygde funksjoner/metoder som dict.items og str.split for å løse oppgaven.\n",
    "\n",
    "***Kjør kodeblokken under slik at du kan bruke dictionarien i oppgavene lenger ned***"
   ]
  },
  {
   "cell_type": "code",
   "execution_count": 1,
   "metadata": {},
   "outputs": [],
   "source": [
    "cheeses = {\n",
    "  'cheddar': ('A235-4', 'A236-1', 'A236-2', 'A236-3', 'A236-5', 'C31-1', 'C31-2'),\n",
    "  'mozarella': ('Q456-9', 'Q456-8', 'A234-5', 'Q457-1', 'Q457-2'),\n",
    "  'gombost': ('ZLAFS55-4', 'ZLAFS55-9', 'GOMBOS-7', 'A236-4'),\n",
    "  'geitost': ('SPAZ-1', 'SPAZ-3', 'EMACS45-0'),\n",
    "  'port salut': ('B15-1', 'B15-2', 'B15-3', 'B15-4', 'B16-1', 'B16-2', 'B16-4'),\n",
    "  'camembert': ('A243-1', 'A234-2', 'A234-3', 'A234-4', 'A235-1', 'A235-2', 'A235-3'),\n",
    "  'ridder': ('GOMBOS-4', 'B16-3'),\n",
    "}"
   ]
  },
  {
   "cell_type": "markdown",
   "metadata": {
    "deletable": false,
    "editable": false,
    "run_control": {
     "frozen": true
    }
   },
   "source": [
    "## a)"
   ]
  },
  {
   "cell_type": "markdown",
   "metadata": {
    "deletable": false,
    "editable": false,
    "run_control": {
     "frozen": true
    }
   },
   "source": [
    "Finn og skriv ut alle hylleplasser til osten “port salut”. Dvs. skriv ut verdien til denne nøkkelen.\n",
    "\n",
    "***Skriv koden i kodeblokken under***"
   ]
  },
  {
   "cell_type": "code",
   "execution_count": 2,
   "metadata": {},
   "outputs": [
    {
     "name": "stdout",
     "output_type": "stream",
     "text": [
      "B15-1\n",
      "B15-2\n",
      "B15-3\n",
      "B15-4\n",
      "B16-1\n",
      "B16-2\n",
      "B16-4\n"
     ]
    }
   ],
   "source": [
    "for places in cheeses['port salut']:\n",
    "    print(places)"
   ]
  },
  {
   "cell_type": "markdown",
   "metadata": {
    "deletable": false,
    "editable": false,
    "run_control": {
     "frozen": true
    }
   },
   "source": [
    "Riktig utskrift skal være:\n",
    "```\n",
    "('B15-1', 'B15-2', 'B15-3', 'B15-4', 'B16-1', 'B16-2', 'B16-4')\n",
    "```"
   ]
  },
  {
   "cell_type": "markdown",
   "metadata": {
    "deletable": false,
    "editable": false,
    "run_control": {
     "frozen": true
    }
   },
   "source": [
    "## b)"
   ]
  },
  {
   "cell_type": "markdown",
   "metadata": {
    "deletable": false,
    "editable": false,
    "run_control": {
     "frozen": true
    }
   },
   "source": [
    "Dessverre så har hyllene fra B13 til B15, samt hyllene A234, A235 og C31 blitt infisert av et ostespisende virus! Finn alle typer oster som potensielt er smittet av viruset og legg disse til i en liste `infected_cheeses`.\n",
    "\n",
    "*Utskrift av infected_cheeses bør nå se slik ut:*\n",
    "```\n",
    "Potentially infected cheeses:  ['mozarella', 'camembert', 'cheddar', 'port salut']\n",
    "```\n",
    "\n",
    "***Skriv koden din i kodeblokken under og sjekk at den er riktig***"
   ]
  },
  {
   "cell_type": "code",
   "execution_count": 3,
   "metadata": {},
   "outputs": [
    {
     "name": "stdout",
     "output_type": "stream",
     "text": [
      "['cheddar', 'mozarella', 'port salut', 'camembert']\n"
     ]
    }
   ],
   "source": [
    "infected_cheeses = []\n",
    "infected_shelves = [\"B13\", \"B14\", \"B15\", \"A234\", \"A235\", \"C31\"]\n",
    "\n",
    "for key in cheeses:\n",
    "    for value in cheeses[key]:\n",
    "        for elem in infected_shelves:\n",
    "            if elem in value:\n",
    "                if key not in infected_cheeses:\n",
    "                    infected_cheeses.append(key)\n",
    "                \n",
    "\n",
    "print(infected_cheeses)"
   ]
  },
  {
   "cell_type": "markdown",
   "metadata": {
    "deletable": false,
    "editable": false,
    "run_control": {
     "frozen": true
    }
   },
   "source": [
    "## c)"
   ]
  },
  {
   "cell_type": "markdown",
   "metadata": {
    "deletable": false,
    "editable": false,
    "run_control": {
     "frozen": true
    }
   },
   "source": [
    "Tross osteviruset, ønsker Tine fortsatt å selge ost til det sultne norske folk. Finn alle typer ost der ingen individ er smittet av viruset, og skriv ut resultatet på formen <hylleplass\\> <ostetype\\>.\n",
    "\n",
    "***Skriv koden din i kodeblokken under***"
   ]
  },
  {
   "cell_type": "code",
   "execution_count": 23,
   "metadata": {},
   "outputs": [
    {
     "name": "stdout",
     "output_type": "stream",
     "text": [
      "ZLAFS55-4   gombost\n",
      "ZLAFS55-9   gombost\n",
      "GOMBOS-7    gombost\n",
      "A236-4      gombost\n",
      "SPAZ-1      geitost\n",
      "SPAZ-3      geitost\n",
      "EMACS45-0   geitost\n",
      "GOMBOS-4    ridder\n",
      "B16-3       ridder\n"
     ]
    }
   ],
   "source": [
    "longest = len(max(cheeses, key = len))\n",
    "\n",
    "for key in cheeses:\n",
    "    if key not in infected_cheeses:\n",
    "        for value in cheeses[key]:\n",
    "            print (\"{value0:{width}}  {key0}\".format(value0 = value, width = longest, key0 = key))"
   ]
  },
  {
   "cell_type": "markdown",
   "metadata": {
    "deletable": false,
    "editable": false,
    "run_control": {
     "frozen": true
    }
   },
   "source": [
    "Riktig utskrift skal være:\n",
    ">```\n",
    "ZLAFS55-4  gombost  \n",
    "ZLAFS55-9  gombost  \n",
    "GOMBOS-7   gombost  \n",
    "A236-4     gombost  \n",
    "SPAZ-1     geitost  \n",
    "SPAZ-3     geitost  \n",
    "EMACS45-0  geitost  \n",
    "GOMBOS-4   ridder   \n",
    "B16-3      ridder\n",
    "```"
   ]
  }
 ],
 "metadata": {
  "kernelspec": {
   "display_name": "Python 3 (ipykernel)",
   "language": "python",
   "name": "python3"
  },
  "language_info": {
   "codemirror_mode": {
    "name": "ipython",
    "version": 3
   },
   "file_extension": ".py",
   "mimetype": "text/x-python",
   "name": "python",
   "nbconvert_exporter": "python",
   "pygments_lexer": "ipython3",
   "version": "3.9.7"
  },
  "toc": {
   "base_numbering": 1,
   "nav_menu": {},
   "number_sections": false,
   "sideBar": true,
   "skip_h1_title": false,
   "title_cell": "Table of Contents",
   "title_sidebar": "Contents",
   "toc_cell": false,
   "toc_position": {},
   "toc_section_display": true,
   "toc_window_display": false
  }
 },
 "nbformat": 4,
 "nbformat_minor": 4
}
